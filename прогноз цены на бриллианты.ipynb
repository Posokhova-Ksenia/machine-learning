{
 "cells": [
  {
   "cell_type": "code",
   "execution_count": 1,
   "id": "4c2a0b19-b9ab-4293-b69f-0704ee38a8e3",
   "metadata": {},
   "outputs": [
    {
     "name": "stdout",
     "output_type": "stream",
     "text": [
      "Python 3.12.7\n"
     ]
    }
   ],
   "source": [
    "!python --version\n"
   ]
  },
  {
   "cell_type": "code",
   "execution_count": 4,
   "id": "69fa9eff-b4af-4db7-97c7-5c92a0517b74",
   "metadata": {},
   "outputs": [
    {
     "name": "stdout",
     "output_type": "stream",
     "text": [
      "sklearn: 1.5.1\n",
      "pandas: 2.2.2\n"
     ]
    }
   ],
   "source": [
    "import numpy as np\n",
    "import matplotlib.pyplot as plt\n",
    "import seaborn as sns\n",
    "import pandas as pd\n",
    "import pandas.plotting as pd_plt\n",
    "import matplotlib.colors as plt_colors\n",
    "import sklearn\n",
    "\n",
    "from sklearn.linear_model import RANSACRegressor\n",
    "from sklearn.neighbors import KNeighborsRegressor\n",
    "from sklearn.preprocessing import StandardScaler, MinMaxScaler,KBinsDiscretizer, PolynomialFeatures, OrdinalEncoder,LabelEncoder, OneHotEncoder, TargetEncoder, RobustScaler, Normalizer, QuantileTransformer\n",
    "from sklearn.model_selection import train_test_split, cross_val_score, cross_validate, FixedThresholdClassifier, RepeatedKFold, GridSearchCV, KFold, StratifiedShuffleSplit, RepeatedStratifiedKFold, TunedThresholdClassifierCV\n",
    "from sklearn.pipeline import make_pipeline, Pipeline\n",
    "from sklearn.linear_model import LogisticRegression, Ridge, Lasso, ElasticNet \n",
    "from sklearn.naive_bayes import GaussianNB \n",
    "from sklearn.metrics import classification_report, roc_curve, auc, roc_auc_score, mean_squared_error, r2_score, mean_absolute_percentage_error, make_scorer\n",
    "from sklearn.impute import SimpleImputer, KNNImputer\n",
    "import category_encoders as ce\n",
    "from sklearn.compose import ColumnTransformer, make_column_transformer, TransformedTargetRegressor\n",
    "from sklearn.svm import SVR, LinearSVR\n",
    "from sklearn.preprocessing import PowerTransformer, FunctionTransformer\n",
    "from sklearn.compose import TransformedTargetRegressor\n",
    "\n",
    "\n",
    "from IPython.display import display\n",
    "import time\n",
    "import warnings\n",
    "warnings.filterwarnings(\"ignore\")\n",
    "\n",
    "\n",
    "\n",
    "print('sklearn:', sklearn.__version__)\n",
    "print(\"pandas:\", pd.__version__)"
   ]
  },
  {
   "cell_type": "code",
   "execution_count": 6,
   "id": "b81880b9-aca2-43e5-8653-df0f03f3c03f",
   "metadata": {},
   "outputs": [],
   "source": [
    "path_train = pd.read_csv('train.csv')"
   ]
  },
  {
   "cell_type": "markdown",
   "id": "d430be6d-dc33-4b53-990b-8115d7e24c36",
   "metadata": {},
   "source": [
    "#### Описание датасета\n",
    "\n",
    "Carat: вес (измеряется в каратах, что составляет 0,2 г) <br>\n",
    "Cut: качество огранки (в порядке возрастания: Справедливая, Хорошая, Очень хорошая, Премиум, Идеальная) <br>\n",
    "Color: цвет бриллианта (в порядке возрастания: J, I, H, G, F, E, D), где D является лучшим, а J - худшим.  \n",
    "Clarity: показатель чистоты алмаза (I1 (наихудший), SI2, SI1, VS2, VS1, VVS2, VVS1, IF (наилучший)).  \n",
    "Depth: рассчитывается как высота бриллианта, измеренная от огранки до поверхности стола, деленная на его средний диаметр по окружности (на рисунке ниже    приведены интерпретации всех терминов, относящихся к алмазам).  \n",
    "Table: размер бриллианта в таблице, выраженный в процентах от его диаметра.  \n",
    "Price: стоимость бриллианта. Это значение, которое мы хотим предсказать, используя модели, которые будут приведены ниже.  \n",
    "X: длина бриллианта в мм.  \n",
    "Y: ширина бриллианта в мм.  \n",
    "Z: глубина углубления в мм.  "
   ]
  },
  {
   "cell_type": "markdown",
   "id": "4b887d5e-7b68-4147-b14b-a83600ee6ca2",
   "metadata": {},
   "source": [
    "#### изучение и предобработка данных \n",
    "1) решить проблему с данными, которые выбиваются из общей тенднеции. например, мы видим, что max по y это 58.9, что выглядит нереалистично.  Вероятно\n",
    "нужна функция, находящая подобные строчки\n",
    "2) необходимо добавить полиноминальные фичи (объем камня: x*y*z) тут есть мысль убрать отдельно    x,y,z и оставить только объем, например\n",
    "3) нужно применить бининг по каратам.\n",
    "4) применить к категориальным фичам encoding при этом думаю, стоит обратить внимание на качество камня и сделать иерархию правильную.\n",
    "5) пропущенные данные: замена 0 на np.nan -> заполнение пропусков с помощью KNN \n",
    "   "
   ]
  },
  {
   "cell_type": "markdown",
   "id": "62cff94a-b7c9-444a-9277-04dc827a7705",
   "metadata": {},
   "source": [
    "## 1. EDA анализ. занимает бОльшую часть работы, т.к. чтобы предсказатть цену, нужно понять, как она образуется и выявить зависимости для написания наиболее оптимальной модели, которая еще и переобучаться не будет (хотелось бы)"
   ]
  },
  {
   "cell_type": "code",
   "execution_count": 7,
   "id": "d204109c-2758-4143-b022-13b4320281fc",
   "metadata": {},
   "outputs": [
    {
     "data": {
      "text/html": [
       "<div>\n",
       "<style scoped>\n",
       "    .dataframe tbody tr th:only-of-type {\n",
       "        vertical-align: middle;\n",
       "    }\n",
       "\n",
       "    .dataframe tbody tr th {\n",
       "        vertical-align: top;\n",
       "    }\n",
       "\n",
       "    .dataframe thead th {\n",
       "        text-align: right;\n",
       "    }\n",
       "</style>\n",
       "<table border=\"1\" class=\"dataframe\">\n",
       "  <thead>\n",
       "    <tr style=\"text-align: right;\">\n",
       "      <th></th>\n",
       "      <th>carat</th>\n",
       "      <th>depth</th>\n",
       "      <th>table</th>\n",
       "      <th>price</th>\n",
       "      <th>x</th>\n",
       "      <th>y</th>\n",
       "      <th>z</th>\n",
       "    </tr>\n",
       "  </thead>\n",
       "  <tbody>\n",
       "    <tr>\n",
       "      <th>count</th>\n",
       "      <td>40455.000000</td>\n",
       "      <td>40455.000000</td>\n",
       "      <td>40455.000000</td>\n",
       "      <td>40455.000000</td>\n",
       "      <td>40455.000000</td>\n",
       "      <td>40455.000000</td>\n",
       "      <td>40455.00000</td>\n",
       "    </tr>\n",
       "    <tr>\n",
       "      <th>mean</th>\n",
       "      <td>0.797227</td>\n",
       "      <td>61.746219</td>\n",
       "      <td>57.451551</td>\n",
       "      <td>3938.457274</td>\n",
       "      <td>5.728667</td>\n",
       "      <td>5.732720</td>\n",
       "      <td>3.53753</td>\n",
       "    </tr>\n",
       "    <tr>\n",
       "      <th>std</th>\n",
       "      <td>0.474440</td>\n",
       "      <td>1.420742</td>\n",
       "      <td>2.230915</td>\n",
       "      <td>3998.851904</td>\n",
       "      <td>1.123597</td>\n",
       "      <td>1.153284</td>\n",
       "      <td>0.70956</td>\n",
       "    </tr>\n",
       "    <tr>\n",
       "      <th>min</th>\n",
       "      <td>0.200000</td>\n",
       "      <td>43.000000</td>\n",
       "      <td>43.000000</td>\n",
       "      <td>326.000000</td>\n",
       "      <td>0.000000</td>\n",
       "      <td>0.000000</td>\n",
       "      <td>0.00000</td>\n",
       "    </tr>\n",
       "    <tr>\n",
       "      <th>25%</th>\n",
       "      <td>0.400000</td>\n",
       "      <td>61.000000</td>\n",
       "      <td>56.000000</td>\n",
       "      <td>945.000000</td>\n",
       "      <td>4.710000</td>\n",
       "      <td>4.720000</td>\n",
       "      <td>2.91000</td>\n",
       "    </tr>\n",
       "    <tr>\n",
       "      <th>50%</th>\n",
       "      <td>0.700000</td>\n",
       "      <td>61.800000</td>\n",
       "      <td>57.000000</td>\n",
       "      <td>2401.000000</td>\n",
       "      <td>5.690000</td>\n",
       "      <td>5.710000</td>\n",
       "      <td>3.53000</td>\n",
       "    </tr>\n",
       "    <tr>\n",
       "      <th>75%</th>\n",
       "      <td>1.040000</td>\n",
       "      <td>62.500000</td>\n",
       "      <td>59.000000</td>\n",
       "      <td>5324.500000</td>\n",
       "      <td>6.540000</td>\n",
       "      <td>6.530000</td>\n",
       "      <td>4.03000</td>\n",
       "    </tr>\n",
       "    <tr>\n",
       "      <th>max</th>\n",
       "      <td>5.010000</td>\n",
       "      <td>78.200000</td>\n",
       "      <td>95.000000</td>\n",
       "      <td>18818.000000</td>\n",
       "      <td>10.740000</td>\n",
       "      <td>58.900000</td>\n",
       "      <td>31.80000</td>\n",
       "    </tr>\n",
       "  </tbody>\n",
       "</table>\n",
       "</div>"
      ],
      "text/plain": [
       "              carat         depth         table         price             x  \\\n",
       "count  40455.000000  40455.000000  40455.000000  40455.000000  40455.000000   \n",
       "mean       0.797227     61.746219     57.451551   3938.457274      5.728667   \n",
       "std        0.474440      1.420742      2.230915   3998.851904      1.123597   \n",
       "min        0.200000     43.000000     43.000000    326.000000      0.000000   \n",
       "25%        0.400000     61.000000     56.000000    945.000000      4.710000   \n",
       "50%        0.700000     61.800000     57.000000   2401.000000      5.690000   \n",
       "75%        1.040000     62.500000     59.000000   5324.500000      6.540000   \n",
       "max        5.010000     78.200000     95.000000  18818.000000     10.740000   \n",
       "\n",
       "                  y            z  \n",
       "count  40455.000000  40455.00000  \n",
       "mean       5.732720      3.53753  \n",
       "std        1.153284      0.70956  \n",
       "min        0.000000      0.00000  \n",
       "25%        4.720000      2.91000  \n",
       "50%        5.710000      3.53000  \n",
       "75%        6.530000      4.03000  \n",
       "max       58.900000     31.80000  "
      ]
     },
     "execution_count": 7,
     "metadata": {},
     "output_type": "execute_result"
    }
   ],
   "source": [
    "path_train.describe()"
   ]
  },
  {
   "cell_type": "markdown",
   "id": "6fbca483-3823-40e5-886f-56089f035b77",
   "metadata": {},
   "source": [
    "1) проверка на пропуски "
   ]
  },
  {
   "cell_type": "code",
   "execution_count": 8,
   "id": "f5d3250b-706e-4ba0-9bc1-5022176336d0",
   "metadata": {},
   "outputs": [],
   "source": [
    "null_data = path_train[path_train.isnull().any(axis=1)]"
   ]
  },
  {
   "cell_type": "code",
   "execution_count": 9,
   "id": "9cd23db3-4c88-4e53-b080-b0051488578a",
   "metadata": {},
   "outputs": [
    {
     "data": {
      "text/html": [
       "<div>\n",
       "<style scoped>\n",
       "    .dataframe tbody tr th:only-of-type {\n",
       "        vertical-align: middle;\n",
       "    }\n",
       "\n",
       "    .dataframe tbody tr th {\n",
       "        vertical-align: top;\n",
       "    }\n",
       "\n",
       "    .dataframe thead th {\n",
       "        text-align: right;\n",
       "    }\n",
       "</style>\n",
       "<table border=\"1\" class=\"dataframe\">\n",
       "  <thead>\n",
       "    <tr style=\"text-align: right;\">\n",
       "      <th></th>\n",
       "      <th>carat</th>\n",
       "      <th>cut</th>\n",
       "      <th>color</th>\n",
       "      <th>clarity</th>\n",
       "      <th>depth</th>\n",
       "      <th>table</th>\n",
       "      <th>price</th>\n",
       "      <th>x</th>\n",
       "      <th>y</th>\n",
       "      <th>z</th>\n",
       "    </tr>\n",
       "  </thead>\n",
       "  <tbody>\n",
       "  </tbody>\n",
       "</table>\n",
       "</div>"
      ],
      "text/plain": [
       "Empty DataFrame\n",
       "Columns: [carat, cut, color, clarity, depth, table, price, x, y, z]\n",
       "Index: []"
      ]
     },
     "execution_count": 9,
     "metadata": {},
     "output_type": "execute_result"
    }
   ],
   "source": [
    "null_data"
   ]
  },
  {
   "cell_type": "markdown",
   "id": "7a1f43cb-2d40-4c73-b695-c1e90ecf9c56",
   "metadata": {},
   "source": [
    "видим присутствие нулевых значений: все они содержатся в x,y,z. Для начала заменим их на NA. (можно заполнить пропуски методом ближайших соседей!)"
   ]
  },
  {
   "cell_type": "code",
   "execution_count": 10,
   "id": "52262186-9797-4c80-b54c-57e7531dd6fa",
   "metadata": {},
   "outputs": [],
   "source": [
    "filtered_data = path_train[(path_train == 0).any(axis=1)]"
   ]
  },
  {
   "cell_type": "code",
   "execution_count": 11,
   "id": "4e4a9ce5-0c65-4d72-9b68-a006e5225f7d",
   "metadata": {},
   "outputs": [
    {
     "data": {
      "text/html": [
       "<div>\n",
       "<style scoped>\n",
       "    .dataframe tbody tr th:only-of-type {\n",
       "        vertical-align: middle;\n",
       "    }\n",
       "\n",
       "    .dataframe tbody tr th {\n",
       "        vertical-align: top;\n",
       "    }\n",
       "\n",
       "    .dataframe thead th {\n",
       "        text-align: right;\n",
       "    }\n",
       "</style>\n",
       "<table border=\"1\" class=\"dataframe\">\n",
       "  <thead>\n",
       "    <tr style=\"text-align: right;\">\n",
       "      <th></th>\n",
       "      <th>carat</th>\n",
       "      <th>cut</th>\n",
       "      <th>color</th>\n",
       "      <th>clarity</th>\n",
       "      <th>depth</th>\n",
       "      <th>table</th>\n",
       "      <th>price</th>\n",
       "      <th>x</th>\n",
       "      <th>y</th>\n",
       "      <th>z</th>\n",
       "    </tr>\n",
       "  </thead>\n",
       "  <tbody>\n",
       "    <tr>\n",
       "      <th>4817</th>\n",
       "      <td>1.07</td>\n",
       "      <td>Ideal</td>\n",
       "      <td>F</td>\n",
       "      <td>SI2</td>\n",
       "      <td>61.6</td>\n",
       "      <td>56.0</td>\n",
       "      <td>4954</td>\n",
       "      <td>0.00</td>\n",
       "      <td>6.62</td>\n",
       "      <td>0.0</td>\n",
       "    </tr>\n",
       "    <tr>\n",
       "      <th>7928</th>\n",
       "      <td>1.01</td>\n",
       "      <td>Premium</td>\n",
       "      <td>F</td>\n",
       "      <td>SI2</td>\n",
       "      <td>59.2</td>\n",
       "      <td>58.0</td>\n",
       "      <td>3837</td>\n",
       "      <td>6.50</td>\n",
       "      <td>6.47</td>\n",
       "      <td>0.0</td>\n",
       "    </tr>\n",
       "    <tr>\n",
       "      <th>10418</th>\n",
       "      <td>2.02</td>\n",
       "      <td>Premium</td>\n",
       "      <td>H</td>\n",
       "      <td>VS2</td>\n",
       "      <td>62.7</td>\n",
       "      <td>53.0</td>\n",
       "      <td>18207</td>\n",
       "      <td>8.02</td>\n",
       "      <td>7.95</td>\n",
       "      <td>0.0</td>\n",
       "    </tr>\n",
       "    <tr>\n",
       "      <th>11203</th>\n",
       "      <td>2.25</td>\n",
       "      <td>Premium</td>\n",
       "      <td>I</td>\n",
       "      <td>SI1</td>\n",
       "      <td>61.3</td>\n",
       "      <td>58.0</td>\n",
       "      <td>15397</td>\n",
       "      <td>8.52</td>\n",
       "      <td>8.42</td>\n",
       "      <td>0.0</td>\n",
       "    </tr>\n",
       "    <tr>\n",
       "      <th>13661</th>\n",
       "      <td>1.14</td>\n",
       "      <td>Fair</td>\n",
       "      <td>G</td>\n",
       "      <td>VS1</td>\n",
       "      <td>57.5</td>\n",
       "      <td>67.0</td>\n",
       "      <td>6381</td>\n",
       "      <td>0.00</td>\n",
       "      <td>0.00</td>\n",
       "      <td>0.0</td>\n",
       "    </tr>\n",
       "    <tr>\n",
       "      <th>15977</th>\n",
       "      <td>0.71</td>\n",
       "      <td>Good</td>\n",
       "      <td>F</td>\n",
       "      <td>SI2</td>\n",
       "      <td>64.1</td>\n",
       "      <td>60.0</td>\n",
       "      <td>2130</td>\n",
       "      <td>0.00</td>\n",
       "      <td>0.00</td>\n",
       "      <td>0.0</td>\n",
       "    </tr>\n",
       "    <tr>\n",
       "      <th>18359</th>\n",
       "      <td>1.15</td>\n",
       "      <td>Ideal</td>\n",
       "      <td>G</td>\n",
       "      <td>VS2</td>\n",
       "      <td>59.2</td>\n",
       "      <td>56.0</td>\n",
       "      <td>5564</td>\n",
       "      <td>6.88</td>\n",
       "      <td>6.83</td>\n",
       "      <td>0.0</td>\n",
       "    </tr>\n",
       "    <tr>\n",
       "      <th>19021</th>\n",
       "      <td>0.71</td>\n",
       "      <td>Good</td>\n",
       "      <td>F</td>\n",
       "      <td>SI2</td>\n",
       "      <td>64.1</td>\n",
       "      <td>60.0</td>\n",
       "      <td>2130</td>\n",
       "      <td>0.00</td>\n",
       "      <td>0.00</td>\n",
       "      <td>0.0</td>\n",
       "    </tr>\n",
       "    <tr>\n",
       "      <th>23017</th>\n",
       "      <td>1.20</td>\n",
       "      <td>Premium</td>\n",
       "      <td>D</td>\n",
       "      <td>VVS1</td>\n",
       "      <td>62.1</td>\n",
       "      <td>59.0</td>\n",
       "      <td>15686</td>\n",
       "      <td>0.00</td>\n",
       "      <td>0.00</td>\n",
       "      <td>0.0</td>\n",
       "    </tr>\n",
       "    <tr>\n",
       "      <th>25662</th>\n",
       "      <td>1.56</td>\n",
       "      <td>Ideal</td>\n",
       "      <td>G</td>\n",
       "      <td>VS2</td>\n",
       "      <td>62.2</td>\n",
       "      <td>54.0</td>\n",
       "      <td>12800</td>\n",
       "      <td>0.00</td>\n",
       "      <td>0.00</td>\n",
       "      <td>0.0</td>\n",
       "    </tr>\n",
       "    <tr>\n",
       "      <th>32084</th>\n",
       "      <td>2.25</td>\n",
       "      <td>Premium</td>\n",
       "      <td>H</td>\n",
       "      <td>SI2</td>\n",
       "      <td>62.8</td>\n",
       "      <td>59.0</td>\n",
       "      <td>18034</td>\n",
       "      <td>0.00</td>\n",
       "      <td>0.00</td>\n",
       "      <td>0.0</td>\n",
       "    </tr>\n",
       "    <tr>\n",
       "      <th>33954</th>\n",
       "      <td>1.00</td>\n",
       "      <td>Premium</td>\n",
       "      <td>G</td>\n",
       "      <td>SI2</td>\n",
       "      <td>59.1</td>\n",
       "      <td>59.0</td>\n",
       "      <td>3142</td>\n",
       "      <td>6.55</td>\n",
       "      <td>6.48</td>\n",
       "      <td>0.0</td>\n",
       "    </tr>\n",
       "    <tr>\n",
       "      <th>35064</th>\n",
       "      <td>1.00</td>\n",
       "      <td>Very Good</td>\n",
       "      <td>H</td>\n",
       "      <td>VS2</td>\n",
       "      <td>63.3</td>\n",
       "      <td>53.0</td>\n",
       "      <td>5139</td>\n",
       "      <td>0.00</td>\n",
       "      <td>0.00</td>\n",
       "      <td>0.0</td>\n",
       "    </tr>\n",
       "    <tr>\n",
       "      <th>36549</th>\n",
       "      <td>1.12</td>\n",
       "      <td>Premium</td>\n",
       "      <td>G</td>\n",
       "      <td>I1</td>\n",
       "      <td>60.4</td>\n",
       "      <td>59.0</td>\n",
       "      <td>2383</td>\n",
       "      <td>6.71</td>\n",
       "      <td>6.67</td>\n",
       "      <td>0.0</td>\n",
       "    </tr>\n",
       "  </tbody>\n",
       "</table>\n",
       "</div>"
      ],
      "text/plain": [
       "       carat        cut color clarity  depth  table  price     x     y    z\n",
       "4817    1.07      Ideal     F     SI2   61.6   56.0   4954  0.00  6.62  0.0\n",
       "7928    1.01    Premium     F     SI2   59.2   58.0   3837  6.50  6.47  0.0\n",
       "10418   2.02    Premium     H     VS2   62.7   53.0  18207  8.02  7.95  0.0\n",
       "11203   2.25    Premium     I     SI1   61.3   58.0  15397  8.52  8.42  0.0\n",
       "13661   1.14       Fair     G     VS1   57.5   67.0   6381  0.00  0.00  0.0\n",
       "15977   0.71       Good     F     SI2   64.1   60.0   2130  0.00  0.00  0.0\n",
       "18359   1.15      Ideal     G     VS2   59.2   56.0   5564  6.88  6.83  0.0\n",
       "19021   0.71       Good     F     SI2   64.1   60.0   2130  0.00  0.00  0.0\n",
       "23017   1.20    Premium     D    VVS1   62.1   59.0  15686  0.00  0.00  0.0\n",
       "25662   1.56      Ideal     G     VS2   62.2   54.0  12800  0.00  0.00  0.0\n",
       "32084   2.25    Premium     H     SI2   62.8   59.0  18034  0.00  0.00  0.0\n",
       "33954   1.00    Premium     G     SI2   59.1   59.0   3142  6.55  6.48  0.0\n",
       "35064   1.00  Very Good     H     VS2   63.3   53.0   5139  0.00  0.00  0.0\n",
       "36549   1.12    Premium     G      I1   60.4   59.0   2383  6.71  6.67  0.0"
      ]
     },
     "execution_count": 11,
     "metadata": {},
     "output_type": "execute_result"
    }
   ],
   "source": [
    "filtered_data"
   ]
  },
  {
   "cell_type": "code",
   "execution_count": 12,
   "id": "29cb1ccd-52e3-41ae-aaa7-594647edea4e",
   "metadata": {},
   "outputs": [],
   "source": [
    "path_train.replace(0, np.nan, inplace=True)"
   ]
  },
  {
   "cell_type": "code",
   "execution_count": 13,
   "id": "e2d3c723-2447-4f71-b118-5697d31f3704",
   "metadata": {},
   "outputs": [
    {
     "data": {
      "text/html": [
       "<div>\n",
       "<style scoped>\n",
       "    .dataframe tbody tr th:only-of-type {\n",
       "        vertical-align: middle;\n",
       "    }\n",
       "\n",
       "    .dataframe tbody tr th {\n",
       "        vertical-align: top;\n",
       "    }\n",
       "\n",
       "    .dataframe thead th {\n",
       "        text-align: right;\n",
       "    }\n",
       "</style>\n",
       "<table border=\"1\" class=\"dataframe\">\n",
       "  <thead>\n",
       "    <tr style=\"text-align: right;\">\n",
       "      <th></th>\n",
       "      <th>carat</th>\n",
       "      <th>cut</th>\n",
       "      <th>color</th>\n",
       "      <th>clarity</th>\n",
       "      <th>depth</th>\n",
       "      <th>table</th>\n",
       "      <th>price</th>\n",
       "      <th>x</th>\n",
       "      <th>y</th>\n",
       "      <th>z</th>\n",
       "    </tr>\n",
       "  </thead>\n",
       "  <tbody>\n",
       "    <tr>\n",
       "      <th>4817</th>\n",
       "      <td>1.07</td>\n",
       "      <td>Ideal</td>\n",
       "      <td>F</td>\n",
       "      <td>SI2</td>\n",
       "      <td>61.6</td>\n",
       "      <td>56.0</td>\n",
       "      <td>4954</td>\n",
       "      <td>NaN</td>\n",
       "      <td>6.62</td>\n",
       "      <td>NaN</td>\n",
       "    </tr>\n",
       "    <tr>\n",
       "      <th>7928</th>\n",
       "      <td>1.01</td>\n",
       "      <td>Premium</td>\n",
       "      <td>F</td>\n",
       "      <td>SI2</td>\n",
       "      <td>59.2</td>\n",
       "      <td>58.0</td>\n",
       "      <td>3837</td>\n",
       "      <td>6.50</td>\n",
       "      <td>6.47</td>\n",
       "      <td>NaN</td>\n",
       "    </tr>\n",
       "    <tr>\n",
       "      <th>10418</th>\n",
       "      <td>2.02</td>\n",
       "      <td>Premium</td>\n",
       "      <td>H</td>\n",
       "      <td>VS2</td>\n",
       "      <td>62.7</td>\n",
       "      <td>53.0</td>\n",
       "      <td>18207</td>\n",
       "      <td>8.02</td>\n",
       "      <td>7.95</td>\n",
       "      <td>NaN</td>\n",
       "    </tr>\n",
       "    <tr>\n",
       "      <th>11203</th>\n",
       "      <td>2.25</td>\n",
       "      <td>Premium</td>\n",
       "      <td>I</td>\n",
       "      <td>SI1</td>\n",
       "      <td>61.3</td>\n",
       "      <td>58.0</td>\n",
       "      <td>15397</td>\n",
       "      <td>8.52</td>\n",
       "      <td>8.42</td>\n",
       "      <td>NaN</td>\n",
       "    </tr>\n",
       "    <tr>\n",
       "      <th>13661</th>\n",
       "      <td>1.14</td>\n",
       "      <td>Fair</td>\n",
       "      <td>G</td>\n",
       "      <td>VS1</td>\n",
       "      <td>57.5</td>\n",
       "      <td>67.0</td>\n",
       "      <td>6381</td>\n",
       "      <td>NaN</td>\n",
       "      <td>NaN</td>\n",
       "      <td>NaN</td>\n",
       "    </tr>\n",
       "    <tr>\n",
       "      <th>15977</th>\n",
       "      <td>0.71</td>\n",
       "      <td>Good</td>\n",
       "      <td>F</td>\n",
       "      <td>SI2</td>\n",
       "      <td>64.1</td>\n",
       "      <td>60.0</td>\n",
       "      <td>2130</td>\n",
       "      <td>NaN</td>\n",
       "      <td>NaN</td>\n",
       "      <td>NaN</td>\n",
       "    </tr>\n",
       "    <tr>\n",
       "      <th>18359</th>\n",
       "      <td>1.15</td>\n",
       "      <td>Ideal</td>\n",
       "      <td>G</td>\n",
       "      <td>VS2</td>\n",
       "      <td>59.2</td>\n",
       "      <td>56.0</td>\n",
       "      <td>5564</td>\n",
       "      <td>6.88</td>\n",
       "      <td>6.83</td>\n",
       "      <td>NaN</td>\n",
       "    </tr>\n",
       "    <tr>\n",
       "      <th>19021</th>\n",
       "      <td>0.71</td>\n",
       "      <td>Good</td>\n",
       "      <td>F</td>\n",
       "      <td>SI2</td>\n",
       "      <td>64.1</td>\n",
       "      <td>60.0</td>\n",
       "      <td>2130</td>\n",
       "      <td>NaN</td>\n",
       "      <td>NaN</td>\n",
       "      <td>NaN</td>\n",
       "    </tr>\n",
       "    <tr>\n",
       "      <th>23017</th>\n",
       "      <td>1.20</td>\n",
       "      <td>Premium</td>\n",
       "      <td>D</td>\n",
       "      <td>VVS1</td>\n",
       "      <td>62.1</td>\n",
       "      <td>59.0</td>\n",
       "      <td>15686</td>\n",
       "      <td>NaN</td>\n",
       "      <td>NaN</td>\n",
       "      <td>NaN</td>\n",
       "    </tr>\n",
       "    <tr>\n",
       "      <th>25662</th>\n",
       "      <td>1.56</td>\n",
       "      <td>Ideal</td>\n",
       "      <td>G</td>\n",
       "      <td>VS2</td>\n",
       "      <td>62.2</td>\n",
       "      <td>54.0</td>\n",
       "      <td>12800</td>\n",
       "      <td>NaN</td>\n",
       "      <td>NaN</td>\n",
       "      <td>NaN</td>\n",
       "    </tr>\n",
       "    <tr>\n",
       "      <th>32084</th>\n",
       "      <td>2.25</td>\n",
       "      <td>Premium</td>\n",
       "      <td>H</td>\n",
       "      <td>SI2</td>\n",
       "      <td>62.8</td>\n",
       "      <td>59.0</td>\n",
       "      <td>18034</td>\n",
       "      <td>NaN</td>\n",
       "      <td>NaN</td>\n",
       "      <td>NaN</td>\n",
       "    </tr>\n",
       "    <tr>\n",
       "      <th>33954</th>\n",
       "      <td>1.00</td>\n",
       "      <td>Premium</td>\n",
       "      <td>G</td>\n",
       "      <td>SI2</td>\n",
       "      <td>59.1</td>\n",
       "      <td>59.0</td>\n",
       "      <td>3142</td>\n",
       "      <td>6.55</td>\n",
       "      <td>6.48</td>\n",
       "      <td>NaN</td>\n",
       "    </tr>\n",
       "    <tr>\n",
       "      <th>35064</th>\n",
       "      <td>1.00</td>\n",
       "      <td>Very Good</td>\n",
       "      <td>H</td>\n",
       "      <td>VS2</td>\n",
       "      <td>63.3</td>\n",
       "      <td>53.0</td>\n",
       "      <td>5139</td>\n",
       "      <td>NaN</td>\n",
       "      <td>NaN</td>\n",
       "      <td>NaN</td>\n",
       "    </tr>\n",
       "    <tr>\n",
       "      <th>36549</th>\n",
       "      <td>1.12</td>\n",
       "      <td>Premium</td>\n",
       "      <td>G</td>\n",
       "      <td>I1</td>\n",
       "      <td>60.4</td>\n",
       "      <td>59.0</td>\n",
       "      <td>2383</td>\n",
       "      <td>6.71</td>\n",
       "      <td>6.67</td>\n",
       "      <td>NaN</td>\n",
       "    </tr>\n",
       "  </tbody>\n",
       "</table>\n",
       "</div>"
      ],
      "text/plain": [
       "       carat        cut color clarity  depth  table  price     x     y   z\n",
       "4817    1.07      Ideal     F     SI2   61.6   56.0   4954   NaN  6.62 NaN\n",
       "7928    1.01    Premium     F     SI2   59.2   58.0   3837  6.50  6.47 NaN\n",
       "10418   2.02    Premium     H     VS2   62.7   53.0  18207  8.02  7.95 NaN\n",
       "11203   2.25    Premium     I     SI1   61.3   58.0  15397  8.52  8.42 NaN\n",
       "13661   1.14       Fair     G     VS1   57.5   67.0   6381   NaN   NaN NaN\n",
       "15977   0.71       Good     F     SI2   64.1   60.0   2130   NaN   NaN NaN\n",
       "18359   1.15      Ideal     G     VS2   59.2   56.0   5564  6.88  6.83 NaN\n",
       "19021   0.71       Good     F     SI2   64.1   60.0   2130   NaN   NaN NaN\n",
       "23017   1.20    Premium     D    VVS1   62.1   59.0  15686   NaN   NaN NaN\n",
       "25662   1.56      Ideal     G     VS2   62.2   54.0  12800   NaN   NaN NaN\n",
       "32084   2.25    Premium     H     SI2   62.8   59.0  18034   NaN   NaN NaN\n",
       "33954   1.00    Premium     G     SI2   59.1   59.0   3142  6.55  6.48 NaN\n",
       "35064   1.00  Very Good     H     VS2   63.3   53.0   5139   NaN   NaN NaN\n",
       "36549   1.12    Premium     G      I1   60.4   59.0   2383  6.71  6.67 NaN"
      ]
     },
     "execution_count": 13,
     "metadata": {},
     "output_type": "execute_result"
    }
   ],
   "source": [
    "path_train[path_train.isnull().any(axis=1)]\n"
   ]
  },
  {
   "cell_type": "markdown",
   "id": "ab575ef6-3be7-461c-aaf4-ba8586f0f62e",
   "metadata": {},
   "source": [
    "2) проверка на дубликаты "
   ]
  },
  {
   "cell_type": "code",
   "execution_count": 14,
   "id": "842458ed-bfce-4f3f-9618-72886d49a555",
   "metadata": {},
   "outputs": [
    {
     "data": {
      "text/html": [
       "<div>\n",
       "<style scoped>\n",
       "    .dataframe tbody tr th:only-of-type {\n",
       "        vertical-align: middle;\n",
       "    }\n",
       "\n",
       "    .dataframe tbody tr th {\n",
       "        vertical-align: top;\n",
       "    }\n",
       "\n",
       "    .dataframe thead th {\n",
       "        text-align: right;\n",
       "    }\n",
       "</style>\n",
       "<table border=\"1\" class=\"dataframe\">\n",
       "  <thead>\n",
       "    <tr style=\"text-align: right;\">\n",
       "      <th></th>\n",
       "      <th>carat</th>\n",
       "      <th>cut</th>\n",
       "      <th>color</th>\n",
       "      <th>clarity</th>\n",
       "      <th>depth</th>\n",
       "      <th>table</th>\n",
       "      <th>price</th>\n",
       "      <th>x</th>\n",
       "      <th>y</th>\n",
       "      <th>z</th>\n",
       "    </tr>\n",
       "  </thead>\n",
       "  <tbody>\n",
       "    <tr>\n",
       "      <th>868</th>\n",
       "      <td>1.00</td>\n",
       "      <td>Premium</td>\n",
       "      <td>F</td>\n",
       "      <td>VVS2</td>\n",
       "      <td>60.6</td>\n",
       "      <td>54.0</td>\n",
       "      <td>8924</td>\n",
       "      <td>6.56</td>\n",
       "      <td>6.52</td>\n",
       "      <td>3.96</td>\n",
       "    </tr>\n",
       "    <tr>\n",
       "      <th>11686</th>\n",
       "      <td>1.04</td>\n",
       "      <td>Premium</td>\n",
       "      <td>I</td>\n",
       "      <td>SI2</td>\n",
       "      <td>62.0</td>\n",
       "      <td>57.0</td>\n",
       "      <td>3774</td>\n",
       "      <td>6.53</td>\n",
       "      <td>6.47</td>\n",
       "      <td>4.03</td>\n",
       "    </tr>\n",
       "    <tr>\n",
       "      <th>12173</th>\n",
       "      <td>0.40</td>\n",
       "      <td>Premium</td>\n",
       "      <td>H</td>\n",
       "      <td>VS1</td>\n",
       "      <td>62.6</td>\n",
       "      <td>58.0</td>\n",
       "      <td>1035</td>\n",
       "      <td>4.71</td>\n",
       "      <td>4.68</td>\n",
       "      <td>2.94</td>\n",
       "    </tr>\n",
       "    <tr>\n",
       "      <th>12558</th>\n",
       "      <td>0.32</td>\n",
       "      <td>Ideal</td>\n",
       "      <td>E</td>\n",
       "      <td>VVS2</td>\n",
       "      <td>62.3</td>\n",
       "      <td>56.0</td>\n",
       "      <td>1080</td>\n",
       "      <td>4.40</td>\n",
       "      <td>4.37</td>\n",
       "      <td>2.73</td>\n",
       "    </tr>\n",
       "    <tr>\n",
       "      <th>13050</th>\n",
       "      <td>0.40</td>\n",
       "      <td>Premium</td>\n",
       "      <td>F</td>\n",
       "      <td>VS1</td>\n",
       "      <td>61.4</td>\n",
       "      <td>58.0</td>\n",
       "      <td>1050</td>\n",
       "      <td>4.75</td>\n",
       "      <td>4.73</td>\n",
       "      <td>2.91</td>\n",
       "    </tr>\n",
       "    <tr>\n",
       "      <th>...</th>\n",
       "      <td>...</td>\n",
       "      <td>...</td>\n",
       "      <td>...</td>\n",
       "      <td>...</td>\n",
       "      <td>...</td>\n",
       "      <td>...</td>\n",
       "      <td>...</td>\n",
       "      <td>...</td>\n",
       "      <td>...</td>\n",
       "      <td>...</td>\n",
       "    </tr>\n",
       "    <tr>\n",
       "      <th>39790</th>\n",
       "      <td>0.40</td>\n",
       "      <td>Premium</td>\n",
       "      <td>F</td>\n",
       "      <td>SI1</td>\n",
       "      <td>62.5</td>\n",
       "      <td>59.0</td>\n",
       "      <td>737</td>\n",
       "      <td>4.67</td>\n",
       "      <td>4.71</td>\n",
       "      <td>2.93</td>\n",
       "    </tr>\n",
       "    <tr>\n",
       "      <th>40006</th>\n",
       "      <td>0.30</td>\n",
       "      <td>Ideal</td>\n",
       "      <td>G</td>\n",
       "      <td>VS2</td>\n",
       "      <td>63.0</td>\n",
       "      <td>55.0</td>\n",
       "      <td>675</td>\n",
       "      <td>4.31</td>\n",
       "      <td>4.29</td>\n",
       "      <td>2.71</td>\n",
       "    </tr>\n",
       "    <tr>\n",
       "      <th>40181</th>\n",
       "      <td>1.21</td>\n",
       "      <td>Premium</td>\n",
       "      <td>H</td>\n",
       "      <td>SI2</td>\n",
       "      <td>61.9</td>\n",
       "      <td>55.0</td>\n",
       "      <td>5218</td>\n",
       "      <td>6.84</td>\n",
       "      <td>6.79</td>\n",
       "      <td>4.22</td>\n",
       "    </tr>\n",
       "    <tr>\n",
       "      <th>40388</th>\n",
       "      <td>1.52</td>\n",
       "      <td>Good</td>\n",
       "      <td>E</td>\n",
       "      <td>I1</td>\n",
       "      <td>57.3</td>\n",
       "      <td>58.0</td>\n",
       "      <td>3105</td>\n",
       "      <td>7.53</td>\n",
       "      <td>7.42</td>\n",
       "      <td>4.28</td>\n",
       "    </tr>\n",
       "    <tr>\n",
       "      <th>40424</th>\n",
       "      <td>2.66</td>\n",
       "      <td>Good</td>\n",
       "      <td>H</td>\n",
       "      <td>SI2</td>\n",
       "      <td>63.8</td>\n",
       "      <td>57.0</td>\n",
       "      <td>16239</td>\n",
       "      <td>8.71</td>\n",
       "      <td>8.65</td>\n",
       "      <td>5.54</td>\n",
       "    </tr>\n",
       "  </tbody>\n",
       "</table>\n",
       "<p>78 rows × 10 columns</p>\n",
       "</div>"
      ],
      "text/plain": [
       "       carat      cut color clarity  depth  table  price     x     y     z\n",
       "868     1.00  Premium     F    VVS2   60.6   54.0   8924  6.56  6.52  3.96\n",
       "11686   1.04  Premium     I     SI2   62.0   57.0   3774  6.53  6.47  4.03\n",
       "12173   0.40  Premium     H     VS1   62.6   58.0   1035  4.71  4.68  2.94\n",
       "12558   0.32    Ideal     E    VVS2   62.3   56.0   1080  4.40  4.37  2.73\n",
       "13050   0.40  Premium     F     VS1   61.4   58.0   1050  4.75  4.73  2.91\n",
       "...      ...      ...   ...     ...    ...    ...    ...   ...   ...   ...\n",
       "39790   0.40  Premium     F     SI1   62.5   59.0    737  4.67  4.71  2.93\n",
       "40006   0.30    Ideal     G     VS2   63.0   55.0    675  4.31  4.29  2.71\n",
       "40181   1.21  Premium     H     SI2   61.9   55.0   5218  6.84  6.79  4.22\n",
       "40388   1.52     Good     E      I1   57.3   58.0   3105  7.53  7.42  4.28\n",
       "40424   2.66     Good     H     SI2   63.8   57.0  16239  8.71  8.65  5.54\n",
       "\n",
       "[78 rows x 10 columns]"
      ]
     },
     "execution_count": 14,
     "metadata": {},
     "output_type": "execute_result"
    }
   ],
   "source": [
    "path_train[path_train.duplicated()]"
   ]
  },
  {
   "cell_type": "code",
   "execution_count": 15,
   "id": "e580b5b7-c89a-4008-a9ca-825c3fae055b",
   "metadata": {},
   "outputs": [
    {
     "data": {
      "text/plain": [
       "78"
      ]
     },
     "execution_count": 15,
     "metadata": {},
     "output_type": "execute_result"
    }
   ],
   "source": [
    "path_train.duplicated().sum()"
   ]
  },
  {
   "cell_type": "code",
   "execution_count": 16,
   "id": "86e53878-9766-420e-90e1-0fd3a485085a",
   "metadata": {},
   "outputs": [],
   "source": [
    "path_train.drop_duplicates(inplace=True)"
   ]
  },
  {
   "cell_type": "code",
   "execution_count": 17,
   "id": "1f139c32-e94c-4375-8aa7-81fa7d369f94",
   "metadata": {},
   "outputs": [
    {
     "data": {
      "text/html": [
       "<div>\n",
       "<style scoped>\n",
       "    .dataframe tbody tr th:only-of-type {\n",
       "        vertical-align: middle;\n",
       "    }\n",
       "\n",
       "    .dataframe tbody tr th {\n",
       "        vertical-align: top;\n",
       "    }\n",
       "\n",
       "    .dataframe thead th {\n",
       "        text-align: right;\n",
       "    }\n",
       "</style>\n",
       "<table border=\"1\" class=\"dataframe\">\n",
       "  <thead>\n",
       "    <tr style=\"text-align: right;\">\n",
       "      <th></th>\n",
       "      <th>carat</th>\n",
       "      <th>depth</th>\n",
       "      <th>table</th>\n",
       "      <th>price</th>\n",
       "      <th>x</th>\n",
       "      <th>y</th>\n",
       "      <th>z</th>\n",
       "    </tr>\n",
       "  </thead>\n",
       "  <tbody>\n",
       "    <tr>\n",
       "      <th>count</th>\n",
       "      <td>40377.00000</td>\n",
       "      <td>40377.000000</td>\n",
       "      <td>40377.000000</td>\n",
       "      <td>40377.000000</td>\n",
       "      <td>40370.000000</td>\n",
       "      <td>40371.000000</td>\n",
       "      <td>40364.000000</td>\n",
       "    </tr>\n",
       "    <tr>\n",
       "      <th>mean</th>\n",
       "      <td>0.79713</td>\n",
       "      <td>61.745600</td>\n",
       "      <td>57.452126</td>\n",
       "      <td>3938.759690</td>\n",
       "      <td>5.729770</td>\n",
       "      <td>5.733738</td>\n",
       "      <td>3.538722</td>\n",
       "    </tr>\n",
       "    <tr>\n",
       "      <th>std</th>\n",
       "      <td>0.47404</td>\n",
       "      <td>1.420043</td>\n",
       "      <td>2.231121</td>\n",
       "      <td>3998.041468</td>\n",
       "      <td>1.120248</td>\n",
       "      <td>1.150464</td>\n",
       "      <td>0.706293</td>\n",
       "    </tr>\n",
       "    <tr>\n",
       "      <th>min</th>\n",
       "      <td>0.20000</td>\n",
       "      <td>43.000000</td>\n",
       "      <td>43.000000</td>\n",
       "      <td>326.000000</td>\n",
       "      <td>3.730000</td>\n",
       "      <td>3.710000</td>\n",
       "      <td>1.070000</td>\n",
       "    </tr>\n",
       "    <tr>\n",
       "      <th>25%</th>\n",
       "      <td>0.40000</td>\n",
       "      <td>61.000000</td>\n",
       "      <td>56.000000</td>\n",
       "      <td>946.000000</td>\n",
       "      <td>4.710000</td>\n",
       "      <td>4.720000</td>\n",
       "      <td>2.910000</td>\n",
       "    </tr>\n",
       "    <tr>\n",
       "      <th>50%</th>\n",
       "      <td>0.70000</td>\n",
       "      <td>61.800000</td>\n",
       "      <td>57.000000</td>\n",
       "      <td>2401.000000</td>\n",
       "      <td>5.690000</td>\n",
       "      <td>5.710000</td>\n",
       "      <td>3.530000</td>\n",
       "    </tr>\n",
       "    <tr>\n",
       "      <th>75%</th>\n",
       "      <td>1.04000</td>\n",
       "      <td>62.500000</td>\n",
       "      <td>59.000000</td>\n",
       "      <td>5326.000000</td>\n",
       "      <td>6.540000</td>\n",
       "      <td>6.530000</td>\n",
       "      <td>4.030000</td>\n",
       "    </tr>\n",
       "    <tr>\n",
       "      <th>max</th>\n",
       "      <td>5.01000</td>\n",
       "      <td>78.200000</td>\n",
       "      <td>95.000000</td>\n",
       "      <td>18818.000000</td>\n",
       "      <td>10.740000</td>\n",
       "      <td>58.900000</td>\n",
       "      <td>31.800000</td>\n",
       "    </tr>\n",
       "  </tbody>\n",
       "</table>\n",
       "</div>"
      ],
      "text/plain": [
       "             carat         depth         table         price             x  \\\n",
       "count  40377.00000  40377.000000  40377.000000  40377.000000  40370.000000   \n",
       "mean       0.79713     61.745600     57.452126   3938.759690      5.729770   \n",
       "std        0.47404      1.420043      2.231121   3998.041468      1.120248   \n",
       "min        0.20000     43.000000     43.000000    326.000000      3.730000   \n",
       "25%        0.40000     61.000000     56.000000    946.000000      4.710000   \n",
       "50%        0.70000     61.800000     57.000000   2401.000000      5.690000   \n",
       "75%        1.04000     62.500000     59.000000   5326.000000      6.540000   \n",
       "max        5.01000     78.200000     95.000000  18818.000000     10.740000   \n",
       "\n",
       "                  y             z  \n",
       "count  40371.000000  40364.000000  \n",
       "mean       5.733738      3.538722  \n",
       "std        1.150464      0.706293  \n",
       "min        3.710000      1.070000  \n",
       "25%        4.720000      2.910000  \n",
       "50%        5.710000      3.530000  \n",
       "75%        6.530000      4.030000  \n",
       "max       58.900000     31.800000  "
      ]
     },
     "execution_count": 17,
     "metadata": {},
     "output_type": "execute_result"
    }
   ],
   "source": [
    "path_train.describe()"
   ]
  },
  {
   "cell_type": "markdown",
   "id": "0e915c4b-12ef-4a59-9858-ddab467bb672",
   "metadata": {},
   "source": [
    "3) каратная цикличность"
   ]
  },
  {
   "cell_type": "code",
   "execution_count": 18,
   "id": "b5449997-0e80-4c37-acff-e00655a85cab",
   "metadata": {},
   "outputs": [
    {
     "data": {
      "text/plain": [
       "(0.0, 3.0)"
      ]
     },
     "execution_count": 18,
     "metadata": {},
     "output_type": "execute_result"
    },
    {
     "data": {
      "image/png": "[encoded data removed]",
      "text/plain": [
       "<Figure size 640x480 with 1 Axes>"
      ]
     },
     "metadata": {},
     "output_type": "display_data"
    }
   ],
   "source": [
    "sns.scatterplot(data = path_train, x = 'carat', y = 'price', alpha=0.05);\n",
    "plt.xlim(0,3)"
   ]
  },
  {
   "cell_type": "code",
   "execution_count": 19,
   "id": "c2237695-8079-4175-aad6-424e8191d941",
   "metadata": {},
   "outputs": [
    {
     "data": {
      "image/png": "[encoded data removed]",
      "text/plain": [
       "<Figure size 640x480 with 1 Axes>"
      ]
     },
     "metadata": {},
     "output_type": "display_data"
    }
   ],
   "source": [
    "sns.histplot(data=path_train, x=\"carat\", bins=200);\n",
    "plt.xlim(0,3);"
   ]
  },
  {
   "cell_type": "code",
   "execution_count": 20,
   "id": "575849a4-ae53-4098-b730-cca4f6a61f56",
   "metadata": {},
   "outputs": [
    {
     "data": {
      "image/png": "[encoded data removed]",
      "text/plain": [
       "<Figure size 640x480 with 1 Axes>"
      ]
     },
     "metadata": {},
     "output_type": "display_data"
    }
   ],
   "source": [
    "sns.histplot(path_train['price']);"
   ]
  },
  {
   "cell_type": "markdown",
   "id": "ba89eac3-f447-4cb9-8d9a-8eb9533b142e",
   "metadata": {},
   "source": [
    "тут интересный момент. у цены низкая корреляция с глубиной. Необходимо проверить гипотезу: при удалении столбца с глубиной качество модели будет улучшаться. На данный момент глубину действительно решила убрать"
   ]
  },
  {
   "cell_type": "code",
   "execution_count": 21,
   "id": "743de3f7-1d9f-4c4f-a63a-1783e374bd24",
   "metadata": {},
   "outputs": [
    {
     "data": {
      "image/png": "[encoded data removed]",
      "text/plain": [
       "<Figure size 1200x700 with 2 Axes>"
      ]
     },
     "metadata": {},
     "output_type": "display_data"
    }
   ],
   "source": [
    "plt.figure(figsize=(12,7))\n",
    "sns.heatmap(path_train.drop(['clarity', 'cut', 'color'], axis=1).corr(),annot=True,cmap='Reds')\n",
    "plt.show()"
   ]
  },
  {
   "cell_type": "markdown",
   "id": "1644c215-f968-4b28-8359-afabcc0cb7cd",
   "metadata": {},
   "source": [
    "Проведем анализ выбросов. примечательные значения: Y = 58 и Z около 30, всё остальное укладывается в реальные данные.   \n",
    "бриллиантов большого размера действительно меньше, чем остальных, но их важно сохранить для того, чтобы модель предсказывала  \n",
    "и большие цены для больших камней тоже.    \n"
   ]
  },
  {
   "cell_type": "code",
   "execution_count": 22,
   "id": "3c4de683-22e6-4bdf-9b4d-492e4b275299",
   "metadata": {},
   "outputs": [
    {
     "name": "stdout",
     "output_type": "stream",
     "text": [
      "Выбросы по y:\n",
      "       carat        cut color clarity  depth  table  price      x      y     z\n",
      "172     3.40       Fair     D      I1   66.8   52.0  15964   9.42   9.34  6.27\n",
      "1195    3.04    Premium     I     SI2   59.3   60.0  18559   9.51   9.46  5.62\n",
      "2455    0.51      Ideal     E     VS1   61.8   55.0   2075   5.15  31.80  5.12\n",
      "5263    3.50      Ideal     H      I1   62.8   57.0  12587   9.65   9.59  6.03\n",
      "5671    4.13       Fair     H      I1   64.8   61.0  17329  10.00   9.85  6.43\n",
      "11354   3.01       Good     H     SI2   57.6   64.0  18593   9.44   9.38  5.42\n",
      "11451   3.01       Fair     H      I1   56.1   62.0  10761   9.54   9.38  5.31\n",
      "12241   3.24    Premium     H      I1   62.1   58.0  12300   9.44   9.40  5.85\n",
      "12443   4.01    Premium     I      I1   61.0   61.0  15223  10.14  10.10  6.17\n",
      "16230   2.00    Premium     H     SI2   58.9   57.0  12210   8.09  58.90  8.06\n",
      "16718   4.50       Fair     J      I1   65.8   58.0  18531  10.23  10.16  6.72\n",
      "17484   3.00    Premium     G      I1   59.7   60.0  13203   9.42   9.26  5.58\n",
      "19395   3.00       Good     I      I1   57.0   64.0  10863   9.38   9.31  5.33\n",
      "19909   5.01       Fair     J      I1   65.5   59.0  18018  10.74  10.54  6.98\n",
      "22370   3.22      Ideal     I      I1   62.6   55.0  12545   9.49   9.42  5.92\n",
      "26365   3.05    Premium     E      I1   60.9   58.0  10453   9.26   9.25  5.66\n",
      "27990   3.01    Premium     I     SI2   60.2   59.0  18242   9.36   9.31  5.62\n",
      "28549   4.00  Very Good     I      I1   63.3   58.0  15984  10.01   9.94  6.31\n",
      "33286   3.65       Fair     H      I1   67.1   53.0  11668   9.53   9.48  6.38\n",
      "35007   4.01    Premium     J      I1   62.5   62.0  15223  10.02   9.94  6.24\n"
     ]
    }
   ],
   "source": [
    "\n",
    "# Вычисляем квартиль 1 (Q1) и квартиль 3 (Q3)\n",
    "Q1 = path_train['y'].quantile(0.25)\n",
    "Q3 = path_train['y'].quantile(0.75)\n",
    "\n",
    "# Вычисляем межквартильный диапазон (IQR)\n",
    "IQR = Q3 - Q1\n",
    "\n",
    "# Определяем границы для выбросов\n",
    "lower_bound = Q1 - 1.5 * IQR\n",
    "upper_bound = Q3 + 1.5 * IQR\n",
    "\n",
    "# Находим выбросы\n",
    "outliers = path_train[(path_train['y'] < lower_bound) | (path_train['y'] > upper_bound)]\n",
    "\n",
    "print(\"Выбросы по y:\")\n",
    "print(outliers)\n"
   ]
  },
  {
   "cell_type": "code",
   "execution_count": 23,
   "id": "c2f1b190-4784-46a5-82fc-4654d1e562bd",
   "metadata": {},
   "outputs": [
    {
     "name": "stdout",
     "output_type": "stream",
     "text": [
      "Выбросы по x:\n",
      "       carat        cut color clarity  depth  table  price      x      y     z\n",
      "172     3.40       Fair     D      I1   66.8   52.0  15964   9.42   9.34  6.27\n",
      "1195    3.04    Premium     I     SI2   59.3   60.0  18559   9.51   9.46  5.62\n",
      "2142    3.01    Premium     J     SI2   60.7   59.0  18710   9.35   9.22  5.64\n",
      "5263    3.50      Ideal     H      I1   62.8   57.0  12587   9.65   9.59  6.03\n",
      "5671    4.13       Fair     H      I1   64.8   61.0  17329  10.00   9.85  6.43\n",
      "11354   3.01       Good     H     SI2   57.6   64.0  18593   9.44   9.38  5.42\n",
      "11451   3.01       Fair     H      I1   56.1   62.0  10761   9.54   9.38  5.31\n",
      "12241   3.24    Premium     H      I1   62.1   58.0  12300   9.44   9.40  5.85\n",
      "12443   4.01    Premium     I      I1   61.0   61.0  15223  10.14  10.10  6.17\n",
      "16718   4.50       Fair     J      I1   65.8   58.0  18531  10.23  10.16  6.72\n",
      "17484   3.00    Premium     G      I1   59.7   60.0  13203   9.42   9.26  5.58\n",
      "19395   3.00       Good     I      I1   57.0   64.0  10863   9.38   9.31  5.33\n",
      "19909   5.01       Fair     J      I1   65.5   59.0  18018  10.74  10.54  6.98\n",
      "22370   3.22      Ideal     I      I1   62.6   55.0  12545   9.49   9.42  5.92\n",
      "25600   3.00       Good     J     SI2   59.3   64.0  14918   9.32   9.19  5.50\n",
      "27990   3.01    Premium     I     SI2   60.2   59.0  18242   9.36   9.31  5.62\n",
      "28549   4.00  Very Good     I      I1   63.3   58.0  15984  10.01   9.94  6.31\n",
      "33286   3.65       Fair     H      I1   67.1   53.0  11668   9.53   9.48  6.38\n",
      "35007   4.01    Premium     J      I1   62.5   62.0  15223  10.02   9.94  6.24\n"
     ]
    }
   ],
   "source": [
    "# Вычисляем квартиль 1 (Q1) и квартиль 3 (Q3)\n",
    "Q1 = path_train['x'].quantile(0.25)\n",
    "Q3 = path_train['x'].quantile(0.75)\n",
    "\n",
    "# Вычисляем межквартильный диапазон (IQR)\n",
    "IQR = Q3 - Q1\n",
    "\n",
    "# Определяем границы для выбросов\n",
    "lower_bound = Q1 - 1.5 * IQR\n",
    "upper_bound = Q3 + 1.5 * IQR\n",
    "\n",
    "# Находим выбросы\n",
    "outliers = path_train[(path_train['x'] < lower_bound) | (path_train['x'] > upper_bound)]\n",
    "\n",
    "print(\"Выбросы по x:\")\n",
    "print(outliers)"
   ]
  },
  {
   "cell_type": "code",
   "execution_count": 24,
   "id": "c058bad3-61fa-461d-8c14-3c419b8e3775",
   "metadata": {},
   "outputs": [
    {
     "name": "stdout",
     "output_type": "stream",
     "text": [
      "Выбросы по z:\n",
      "       carat        cut color clarity  depth  table  price      x      y  \\\n",
      "172     3.40       Fair     D      I1   66.8   52.0  15964   9.42   9.34   \n",
      "1895    0.51  Very Good     E     VS1   61.8   54.7   1970   5.12   5.15   \n",
      "2375    3.00       Fair     I     SI2   64.8   59.0  16970   8.93   8.73   \n",
      "4723    3.01    Premium     F      I1   62.2   56.0   9925   9.24   9.13   \n",
      "5043    3.01       Fair     I     SI2   65.8   56.0  18242   8.99   8.94   \n",
      "5263    3.50      Ideal     H      I1   62.8   57.0  12587   9.65   9.59   \n",
      "5671    4.13       Fair     H      I1   64.8   61.0  17329  10.00   9.85   \n",
      "8446    2.01       Fair     G     SI2   65.6   56.0  15562   7.89   7.84   \n",
      "10860   3.11       Fair     J      I1   65.9   57.0   9823   9.15   9.02   \n",
      "12241   3.24    Premium     H      I1   62.1   58.0  12300   9.44   9.40   \n",
      "12443   4.01    Premium     I      I1   61.0   61.0  15223  10.14  10.10   \n",
      "16197   3.01      Ideal     J      I1   65.4   60.0  16538   8.99   8.93   \n",
      "16230   2.00    Premium     H     SI2   58.9   57.0  12210   8.09  58.90   \n",
      "16718   4.50       Fair     J      I1   65.8   58.0  18531  10.23  10.16   \n",
      "19909   5.01       Fair     J      I1   65.5   59.0  18018  10.74  10.54   \n",
      "20221   3.04  Very Good     I     SI2   63.2   59.0  15354   9.14   9.07   \n",
      "22208   3.00       Good     E      I1   64.2   65.0  11548   9.08   8.96   \n",
      "22370   3.22      Ideal     I      I1   62.6   55.0  12545   9.49   9.42   \n",
      "27298   2.72       Fair     J      I1   68.2   56.0   6870   8.46   8.43   \n",
      "27591   3.00       Fair     H      I1   67.1   57.0   8044   8.93   8.84   \n",
      "28549   4.00  Very Good     I      I1   63.3   58.0  15984  10.01   9.94   \n",
      "29467   3.02       Fair     I      I1   65.2   56.0  10577   9.11   9.02   \n",
      "32777   3.00  Very Good     H      I1   63.1   55.0   6512   9.23   9.10   \n",
      "33102   1.07      Ideal     F     SI1   60.6   57.0   5909   6.62   6.67   \n",
      "33286   3.65       Fair     H      I1   67.1   53.0  11668   9.53   9.48   \n",
      "35007   4.01    Premium     J      I1   62.5   62.0  15223  10.02   9.94   \n",
      "35350   3.01       Good     I     SI2   63.9   60.0  18242   9.06   9.01   \n",
      "\n",
      "           z  \n",
      "172     6.27  \n",
      "1895   31.80  \n",
      "2375    5.72  \n",
      "4723    5.73  \n",
      "5043    5.90  \n",
      "5263    6.03  \n",
      "5671    6.43  \n",
      "8446    6.16  \n",
      "10860   5.98  \n",
      "12241   5.85  \n",
      "12443   6.17  \n",
      "16197   5.86  \n",
      "16230   8.06  \n",
      "16718   6.72  \n",
      "19909   6.98  \n",
      "20221   5.75  \n",
      "22208   5.79  \n",
      "22370   5.92  \n",
      "27298   5.76  \n",
      "27591   5.97  \n",
      "28549   6.31  \n",
      "29467   5.91  \n",
      "32777   5.77  \n",
      "33102   1.07  \n",
      "33286   6.38  \n",
      "35007   6.24  \n",
      "35350   5.77  \n"
     ]
    }
   ],
   "source": [
    "# Вычисляем квартиль 1 (Q1) и квартиль 3 (Q3)\n",
    "Q1 = path_train['z'].quantile(0.25)\n",
    "Q3 = path_train['z'].quantile(0.75)\n",
    "\n",
    "# Вычисляем межквартильный диапазон (IQR)\n",
    "IQR = Q3 - Q1\n",
    "\n",
    "# Определяем границы для выбросов\n",
    "lower_bound = Q1 - 1.5 * IQR\n",
    "upper_bound = Q3 + 1.5 * IQR\n",
    "\n",
    "# Находим выбросы\n",
    "outliers = path_train[(path_train['z'] < lower_bound) | (path_train['z'] > upper_bound)]\n",
    "\n",
    "print(\"Выбросы по z:\")\n",
    "print(outliers)"
   ]
  },
  {
   "cell_type": "markdown",
   "id": "1b4f71f8-3ffc-441b-95fd-b608828b9ff8",
   "metadata": {},
   "source": [
    "подозрительный выброс по y (58) и z(31) заменила на медианное значение"
   ]
  },
  {
   "cell_type": "code",
   "execution_count": 25,
   "id": "f85d94bd-aeb7-40dc-b4fc-3ddea55c7280",
   "metadata": {},
   "outputs": [],
   "source": [
    "median_value = path_train['y'].median()\n",
    "path_train.loc[path_train['y'] > 50, 'y'] = median_value\n"
   ]
  },
  {
   "cell_type": "code",
   "execution_count": 26,
   "id": "fdab2084-1817-4de1-b942-b16795514cda",
   "metadata": {},
   "outputs": [],
   "source": [
    "median_value = path_train['z'].median()\n",
    "path_train.loc[path_train['z'] > 28, 'z'] = median_value"
   ]
  },
  {
   "cell_type": "code",
   "execution_count": null,
   "id": "b458b60b-5ace-493d-a083-ee29eea0f3a9",
   "metadata": {},
   "outputs": [],
   "source": [
    "path_train.describe()"
   ]
  },
  {
   "cell_type": "markdown",
   "id": "561df766-ac2b-48b6-a653-8c7b72ce3c3b",
   "metadata": {},
   "source": [
    "видим, что идеальная огранка встречается у экземпляров с небольшим каратом и чем больше размер, тем больше огранки уровня премиум"
   ]
  },
  {
   "cell_type": "code",
   "execution_count": null,
   "id": "1e05cc51-cc9d-46f3-9e67-4897ae28aa85",
   "metadata": {},
   "outputs": [],
   "source": [
    "sns.scatterplot(path_train, x = 'carat', y = 'price', hue='cut', alpha = 0.3)\n",
    "plt.title(\"Зависимость стоимости от веса(карата) и качества огранки\");"
   ]
  },
  {
   "cell_type": "markdown",
   "id": "1a6ea8f7-aaae-447f-b47e-f5c9b38ae299",
   "metadata": {},
   "source": [
    "видим переход цветов в зависимости от размера камня. значит определенным каратам соотносятся определенные цвета"
   ]
  },
  {
   "cell_type": "code",
   "execution_count": null,
   "id": "a971b0c4-43b0-42b6-ba14-ee79f1c09a7b",
   "metadata": {},
   "outputs": [],
   "source": [
    "sns.scatterplot(path_train, x = 'carat', y = 'price', hue='color', alpha = 0.3)\n",
    "plt.title(\"Зависимость стоимости от веса (карата) и цвета\");"
   ]
  },
  {
   "cell_type": "markdown",
   "id": "74f2efc5-321f-42e7-bf6c-73724c514e70",
   "metadata": {},
   "source": [
    "мы видим, что цена растет линейно для I1 и квадратично для остального clarity. поэтому мы учтем это в map для clarity ниже"
   ]
  },
  {
   "cell_type": "code",
   "execution_count": null,
   "id": "0c72e0e1-e759-4be0-adfa-a3f194242911",
   "metadata": {},
   "outputs": [],
   "source": [
    "sns.relplot(data = path_train, x = 'carat', y = 'price', col = 'clarity', kind = 'scatter');"
   ]
  },
  {
   "cell_type": "markdown",
   "id": "2428d978-724a-4a94-9d35-e560888f6c91",
   "metadata": {},
   "source": [
    "ещё немного визуализации, потому что я люблю графики :)"
   ]
  },
  {
   "cell_type": "code",
   "execution_count": null,
   "id": "0bf9c3ee-e806-4f4f-ace2-5e5a6a015ddb",
   "metadata": {},
   "outputs": [],
   "source": [
    "# Выбираем числовые столбцы и исключаем 'price'\n",
    "int_cols = path_train.select_dtypes(exclude='object').columns.to_list()\n",
    "int_cols.remove('price')\n",
    "\n",
    "\n",
    "fig = plt.figure(figsize=(15, 10), constrained_layout=True)\n",
    "plt.suptitle(\"Регрессия числовых переменных\", size=20, weight='bold')\n",
    "\n",
    "for j, i in enumerate(int_cols):\n",
    "    ax = plt.subplot(3, 3, j + 1) \n",
    "    sns.regplot(data=path_train, x=i, y='price', ax=ax, color='pink', line_kws={'color': 'purple'})\n",
    "    ax.set_title(\"Анализ сравнения цены и {}\".format(i), family='sans-serif')  \n",
    "\n",
    "    # Скрываем границы графиков для более чистого вида\n",
    "    \n",
    "\n",
    "plt.show()\n"
   ]
  },
  {
   "cell_type": "code",
   "execution_count": null,
   "id": "efbf9d5f-8ffd-4b17-8b04-48a77b590789",
   "metadata": {},
   "outputs": [],
   "source": [
    "# Находим числовые столбцы\n",
    "int_cols = path_train.select_dtypes(exclude='object').columns.to_list()\n",
    "j = 0\n",
    "\n",
    "# Создаем фигуру\n",
    "fig = plt.figure(figsize=(15, 10), constrained_layout=True)\n",
    "plt.suptitle(\"Распределение числовых переменных\", family='sans-serif', size=20, weight='bold')\n",
    "\n",
    "# Проходим по каждому числовому столбцу\n",
    "for i in int_cols:\n",
    "    ax = plt.subplot(3, 3, j + 1)  # Создаем подграфик\n",
    "    sns.kdeplot(data=path_train, x=i, color='pink', fill=True, edgecolor='purple', alpha=1)\n",
    "    ax.set_title(\"Распределение числовых переменных - {}\".format(i), family='sans-serif')\n",
    "\n",
    "    # Скрываем границы графиков для более чистого вида\n",
    "    for s in ['left', 'right', 'top', 'bottom']:\n",
    "        ax.spines[s].set_visible(False)\n",
    "    \n",
    "    j += 1  # Увеличиваем индекс для следующего подграфика\n",
    "\n",
    "plt.show() "
   ]
  },
  {
   "cell_type": "markdown",
   "id": "2819ee7f-c2fb-470b-82e9-a57e797f87eb",
   "metadata": {},
   "source": [
    "'Очевидно, что в данных есть выбросы. Нам нужно проверить их, чтобы определить, являются ли они экстремальными значениями или ошибками в данных.'"
   ]
  },
  {
   "cell_type": "code",
   "execution_count": null,
   "id": "63ad132d-ee0c-4a26-bb50-6559642ce266",
   "metadata": {},
   "outputs": [],
   "source": [
    "j = 0\n",
    "fig = plt.figure(figsize=(15, 10))\n",
    "plt.suptitle(\"Боксплот для числовых переменных\", family='sans-serif', size=20, weight='bold')  \n",
    "\n",
    "\n",
    "for i in int_cols:\n",
    "    ax = plt.subplot(3, 3, j + 1)  \n",
    "    sns.boxplot(data=path_train, x=i, color='purple') \n",
    "    ax.set_title(\"Боксплот для {}\".format(i))\n",
    "\n",
    " \n",
    "    j += 1  \n",
    "plt.show()  "
   ]
  },
  {
   "cell_type": "code",
   "execution_count": null,
   "id": "f387219c-1e84-42ae-a5ab-e453b164b982",
   "metadata": {},
   "outputs": [],
   "source": [
    "\n",
    "fig = plt.figure(figsize=(15, 10), constrained_layout=True)\n",
    "plt.suptitle(\"Сравнение категориальных признаков с ценой\", family='sans-serif', size=20, weight='bold')\n",
    "\n",
    "\n",
    "cat_cols = path_train.select_dtypes(include='object').columns.to_list()\n",
    "\n",
    "\n",
    "ax = fig.subplot_mosaic(\"\"\"\n",
    "                        AAB\n",
    "                        AAC\n",
    "                        AAD\n",
    "                        \"\"\")\n",
    "\n",
    "# Строим график плотности для переменной 'price'\n",
    "sns.kdeplot(path_train['price'], fill=True, edgecolor='purple', linewidth=2, color='purple', ax=ax['A'], alpha=0.8)\n",
    "ax['A'].text(x=2000, y=0.00025, s=\"Целевая переменная цена не имеет нормального распределения\", family='sans-serif', fontweight='bold')\n",
    "ax['A'].text(x=2000, y=0.00023, s=\"Сравнивая цену с категориальными признаками, можем видеть, что медиана более-менее одинакова\", family='sans-serif', fontweight='bold')\n",
    "\n",
    "# Строим боксплоты для категориальных признаков\n",
    "sns.boxplot(data=path_train, x=cat_cols[0], y='price', ax=ax['B'], color='pink')  \n",
    "sns.boxplot(data=path_train, x=cat_cols[1], y='price', ax=ax['C'], color='pink')  \n",
    "sns.boxplot(data=path_train, x=cat_cols[2], y='price', ax=ax['D'], color='pink') \n",
    "\n",
    "\n",
    "\n",
    "plt.show()  "
   ]
  },
  {
   "cell_type": "markdown",
   "id": "5505215c-74ae-4543-a6f9-b04fd94269c8",
   "metadata": {},
   "source": [
    "#### Проверяю гипотезу о том, что стоит убрать выбросы. \n",
    "пришла к выводу, что выбросы стоит оставлять, т.к. в данном датасете к выбросам относятся уникальные дорогие камни и нам важно их научиться предсказывать.\n"
   ]
  },
  {
   "cell_type": "code",
   "execution_count": null,
   "id": "3c3903cb-33b8-4e3c-94da-7dee219beb6f",
   "metadata": {},
   "outputs": [],
   "source": [
    "#import scipy.stats as st"
   ]
  },
  {
   "cell_type": "markdown",
   "id": "06274fd2-5f3e-4982-8ccf-737adbf9c18e",
   "metadata": {},
   "source": [
    "В Python оператор ~ используется для выполнения побитового отрицания (NOT). В контексте маскирования в pandas он инвертирует логические значения.\n",
    "Эта строка создает маску, которая возвращает True для строк, не являющихся выбросами, и False для строк, которые являются выбросами."
   ]
  },
  {
   "cell_type": "code",
   "execution_count": null,
   "id": "4f72b3e8-ccdd-4929-98dd-97a5bde71d52",
   "metadata": {},
   "outputs": [],
   "source": [
    "#numeric_cols = path_train.select_dtypes(include=['number'])\n",
    "\n",
    "# Шаг 2: Вычисление квартилей и IQR\n",
    "#Q1 = numeric_cols.quantile(0.25)\n",
    "#Q3 = numeric_cols.quantile(0.75)\n",
    "#IQR = Q3 - Q1\n",
    "\n",
    "# Шаг 3: Фильтрация выбросов\n",
    "# Создаем маску для фильтрации выбросов\n",
    "#mask = ~((numeric_cols < (Q1 - 1.5 * IQR)) | (numeric_cols > (Q3 + 1.5 * IQR)))\n",
    "\n",
    "# Удаляем строки, содержащие хотя бы один выброс\n",
    "#path_train = path_train[mask.all(axis=1)]\n",
    "\n",
    "# path_train_filtered теперь содержит данные без выбросов"
   ]
  },
  {
   "cell_type": "code",
   "execution_count": null,
   "id": "aad8eaea-5bc1-4ade-b6f7-36ca7abd85e1",
   "metadata": {},
   "outputs": [],
   "source": [
    "# Feature engineering\n",
    "def add_features(path_train):\n",
    "    path_train['volume'] = path_train['x'] * path_train['y'] * path_train['z']\n",
    "    path_train['density'] = path_train['carat'] / path_train['volume']\n",
    "    path_train['table_ratio'] = (path_train['table'] / ((path_train['x'] + path_train['y']) / 2))\n",
    "    path_train['depth_ratio'] = (path_train['depth'] / ((path_train['x'] + path_train['y']) / 2))\n",
    "    path_train['symmetry'] = (abs(path_train['x'] - path_train['z']) + abs(path_train['y'] - path_train['z'])) / (path_train['x'] + path_train['y'] + path_train['z'])\n",
    "    path_train['surface_area'] = 2 * ((path_train['x'] * path_train['y']) + (path_train['x'] * path_train['z']) + (path_train['y'] * path_train['z']))\n",
    "    path_train['depth_to_table_ratio'] = path_train['depth'] / path_train['table']\n",
    "    path_train['depth_per_volume'] = path_train['depth'] / (path_train['volume'] + 1e-6)\n",
    "    path_train['depth_per_density'] = path_train['depth'] / (path_train['density'] + 1e-6)\n",
    "    path_train['depth_per_table'] = path_train['depth'] / (path_train['table'] + 1e-6)\n",
    "    return path_train\n"
   ]
  },
  {
   "cell_type": "code",
   "execution_count": null,
   "id": "92c4ce7c-7fa8-42ab-9b42-607bfed4be47",
   "metadata": {},
   "outputs": [],
   "source": [
    "new_features = ['volume','density','table_ratio','depth_ratio','symmetry','surface_area','depth_to_table_ratio','depth_per_volume','depth_per_density', 'depth_per_table']"
   ]
  },
  {
   "cell_type": "code",
   "execution_count": null,
   "id": "ad028c2c-2a0e-4778-a673-84d7703e0116",
   "metadata": {},
   "outputs": [],
   "source": [
    "#path_train = add_features(path_train)"
   ]
  },
  {
   "cell_type": "code",
   "execution_count": null,
   "id": "4735fc5f-84f8-4165-bff2-2fe4e0f2e061",
   "metadata": {},
   "outputs": [],
   "source": [
    "path_train"
   ]
  },
  {
   "cell_type": "markdown",
   "id": "26aef31a-ca85-448f-a7d8-e94a5d93eb8f",
   "metadata": {},
   "source": [
    "я решила преобразовать table на основании официальной статистики о камнях, но это вероятно излишний регрессор. поэтому пока убираем его"
   ]
  },
  {
   "cell_type": "code",
   "execution_count": null,
   "id": "b3faca7e-8923-4423-a809-6170f46581a5",
   "metadata": {},
   "outputs": [],
   "source": [
    "def diamond_shape(path_train):\n",
    "    dshape = []\n",
    "    for i in path_train['table'].index:\n",
    "        if 54<path_train['table'][i]<57 and 61<path_train['depth'][i]<62.5:\n",
    "            dshape.append('round')\n",
    "        elif 52<path_train['table'][i]<60 and 60<path_train['depth'][i]<68:\n",
    "            dshape.append('oval')\n",
    "        elif 63<path_train['table'][i]<69 and 69<path_train['depth'][i]<76:\n",
    "            dshape.append('princess')\n",
    "        elif 58<path_train['table'][i]<63 and 58<path_train['depth'][i]<66:\n",
    "            dshape.append('cushion')\n",
    "        else:\n",
    "            dshape.append('others')\n",
    "    return dshape"
   ]
  },
  {
   "cell_type": "code",
   "execution_count": null,
   "id": "689ef99b-c548-419c-8084-af36d085f40b",
   "metadata": {},
   "outputs": [],
   "source": [
    "path_train['diamond_shape'] = diamond_shape(path_train)"
   ]
  },
  {
   "cell_type": "markdown",
   "id": "b22687b8-5074-48b7-a272-583d92efcc71",
   "metadata": {},
   "source": [
    "## Работа с моделями машинного обучения"
   ]
  },
  {
   "cell_type": "markdown",
   "id": "d0c85271-1ebf-40f7-a742-9b7164847c04",
   "metadata": {},
   "source": [
    "разобьем фичи на группы в зависимости от их характерных особенностей для дальнейшей их обработки"
   ]
  },
  {
   "cell_type": "code",
   "execution_count": null,
   "id": "9c7c9407-6f24-4c58-956b-bac473506c9d",
   "metadata": {},
   "outputs": [],
   "source": [
    "axis_features = ['x','y','z']\n",
    "numeric_features = ['carat']"
   ]
  },
  {
   "cell_type": "code",
   "execution_count": null,
   "id": "a67b561c-549f-4104-8e2a-e39f3c561f92",
   "metadata": {},
   "outputs": [],
   "source": [
    "X = path_train.drop(['price'], axis=1)\n",
    "y = path_train['price']"
   ]
  },
  {
   "cell_type": "code",
   "execution_count": null,
   "id": "35e9af75-1983-4a3a-820a-f3a30fea165b",
   "metadata": {},
   "outputs": [],
   "source": [
    "X_train,X_test,y_train,y_test=train_test_split(X, y, test_size=0.25, shuffle = True) #shuffle - перемешиваем данные перед разделением\n",
    "X_test.shape "
   ]
  },
  {
   "cell_type": "markdown",
   "id": "840cfd22-75a0-43e0-837e-b9bba30e69c9",
   "metadata": {},
   "source": [
    "Clarity: показатель чистоты алмаза (I1 (наихудший), SI2, SI1, VS2, VS1, VVS2, VVS1, IF (наилучший)).\n",
    "я сопоставляю показателю чистоты номер в порядке убывания от наилучшего к наихудшему, что позволит применить OrdinalEncoder, т.к. показатель чистоты важен для модели и влияет на цену."
   ]
  },
  {
   "cell_type": "code",
   "execution_count": null,
   "id": "543e69c8-dda3-44be-ad7a-96f8999c1cb6",
   "metadata": {},
   "outputs": [],
   "source": [
    "path_train['clarity'].unique()"
   ]
  },
  {
   "cell_type": "markdown",
   "id": "9bbcc3ae-78f7-47d9-9e8f-6351aca86606",
   "metadata": {},
   "source": [
    "J, I, H, G, F, E, D"
   ]
  },
  {
   "cell_type": "code",
   "execution_count": null,
   "id": "08fdab80-36a0-4689-a87c-51846020c7c5",
   "metadata": {},
   "outputs": [],
   "source": [
    "display(path_train['color'].unique())\n",
    "path_train['color'].nunique()"
   ]
  },
  {
   "cell_type": "markdown",
   "id": "4e494959-49a9-4374-a69c-cdc58790a0bc",
   "metadata": {},
   "source": [
    "Справедливая, Хорошая, Очень хорошая, Премиум, Идеальная"
   ]
  },
  {
   "cell_type": "code",
   "execution_count": null,
   "id": "9b12a284-1b1a-4013-9dd9-659ce053e09d",
   "metadata": {},
   "outputs": [],
   "source": [
    "display(path_train['cut'].unique())\n",
    "path_train['cut'].nunique()"
   ]
  },
  {
   "cell_type": "code",
   "execution_count": null,
   "id": "9921b89f-1f35-4b85-8b94-1e62ea5e2b06",
   "metadata": {},
   "outputs": [],
   "source": [
    "clarity_map = [{\n",
    "    'col':'clarity',\n",
    "    'mapping':{'IF':8**2,\n",
    "               'VVS1':7**2,\n",
    "               'VVS2':6**2,\n",
    "               'VS1':5**2,\n",
    "               'VS2':4**2,\n",
    "               'SI1':3**2,\n",
    "               'SI2':2**2,\n",
    "               'I1':1\n",
    "              }\n",
    "    }]"
   ]
  },
  {
   "cell_type": "code",
   "execution_count": null,
   "id": "046f07e3-a81e-42a1-adf4-0e51254dc738",
   "metadata": {},
   "outputs": [],
   "source": [
    "color_map = [{\n",
    "    'col':'color',\n",
    "    'mapping':{'D':7, 'E':6, 'F':5, 'G':4, 'H':3, 'I':2, \n",
    "               'J':1}\n",
    "    }]"
   ]
  },
  {
   "cell_type": "code",
   "execution_count": null,
   "id": "abba0c2f-1b47-4fbb-8952-c27c7c109094",
   "metadata": {},
   "outputs": [],
   "source": [
    "cut_map = [{ 'col' : 'cut', 'mapping': {\n",
    "                                     'Ideal' : 5,\n",
    "                                     'Premium' : 4,\n",
    "                                     'Very Good': 3,\n",
    "                                     'Good' : 2,\n",
    "                                      'Fair' : 1\n",
    "}\n",
    "           }]"
   ]
  },
  {
   "cell_type": "code",
   "execution_count": null,
   "id": "a8686222-7858-457f-bace-ba89f58a627f",
   "metadata": {},
   "outputs": [],
   "source": [
    "table_mup = [{'col' :'diamond_shape',  'mapping':  {'round':4, 'oval': 1, 'princess': 3, 'cushion':2, 'others':0}}]"
   ]
  },
  {
   "cell_type": "code",
   "execution_count": null,
   "id": "1e5d0d9c-efb2-4deb-965d-225a15284e7e",
   "metadata": {},
   "outputs": [],
   "source": [
    "table_mup"
   ]
  },
  {
   "cell_type": "code",
   "execution_count": null,
   "id": "e21446d8-278a-4b8c-9831-bb02a6b919af",
   "metadata": {},
   "outputs": [],
   "source": [
    "path_train"
   ]
  },
  {
   "cell_type": "markdown",
   "id": "4c5a7a92-52ae-43b0-9a93-eb9d72d2e1d1",
   "metadata": {},
   "source": [
    "Robust Scaling (робастное масштабирование): применяется для данных с выбросами, которые могли остаться после очистки. Минимизирует влияние выбросов. Использует медиану и интерквартильный размах вместо среднего и стандартного отклонения.    \n",
    "||||Параметр degree=2 позволяет создавать комбинации до второго порядка (включая произведения).  \n",
    "interaction_only=True гарантирует, что будут добавлены только взаимодействия (т.е. произведения) между признаками, а не полиномиальные степени."
   ]
  },
  {
   "cell_type": "code",
   "execution_count": null,
   "id": "af9b82b6-497b-4b12-8e6e-a5bc34036f8d",
   "metadata": {},
   "outputs": [],
   "source": [
    "transformer_axis = Pipeline(steps=[\n",
    "    ('imputer',KNNImputer(missing_values=np.nan, add_indicator=False, n_neighbors = 4, weights = \"uniform\")),\n",
    "    ('scaler', RobustScaler()),\n",
    "    ('polynomial', PolynomialFeatures(degree=3,include_bias=False, interaction_only=True))\n",
    "])\n",
    "\n",
    "transformer_numeric = Pipeline(steps=[\n",
    "    ('binner', KBinsDiscretizer(n_bins = 20, strategy='quantile', encode='onehot-dense')),\n",
    "    ('polynominal', PolynomialFeatures(degree=2,include_bias=False, interaction_only=False)),\n",
    "    ('scaler', RobustScaler())])\n",
    "\n",
    "transformer_new_features = Pipeline(steps=[\n",
    "    ('imputer',KNNImputer(missing_values=np.nan, add_indicator=False)),\n",
    "    ('scaler', StandardScaler()),\n",
    "])\n",
    "\n",
    "#обработка категориальных фич. очень важно в данном случае соблюдать иерархию присвоения номеров,\n",
    "#т.к. наилучшие по цвету, огранке и чистоте будут стоить дороже.\n",
    "transformer_clarity = Pipeline(steps=[\n",
    "    ('encoder',ce.OrdinalEncoder(mapping=clarity_map)),\n",
    "    ('scaler', StandardScaler()),\n",
    "    ])\n",
    "\n",
    "transformer_color = Pipeline(steps = [\n",
    "    ('encoder',ce.OrdinalEncoder(mapping = color_map)),\n",
    "    ('scaler', RobustScaler())\n",
    "    ])\n",
    "transformer_cut = Pipeline( steps = [\n",
    "      ('encoder',ce.OrdinalEncoder(mapping = cut_map)),\n",
    "    ('scaler', StandardScaler())\n",
    "    ])\n",
    "transformer_table_new = Pipeline ( steps = [\n",
    "    ('encoder', ce.OrdinalEncoder(mapping = table_mup)),\n",
    "    ('scaler', StandardScaler())\n",
    "])\n",
    "transformer_table = Pipeline( steps = [\n",
    "    ('scaler', StandardScaler())\n",
    "    ])\n",
    "#------------------------------------------------------------------------------------------------------------------------------------------------------\n",
    "CT = ColumnTransformer([\n",
    "       (\"pol_axis\", transformer_axis, axis_features),\n",
    "        (\"numeric\", transformer_numeric, numeric_features),\n",
    "        (\"clarity\", transformer_clarity, ['clarity']),\n",
    "        ('color', transformer_color, ['color']),\n",
    "        ('cut', transformer_cut, ['cut']),\n",
    "       # ('table', transformer_table, ['table'])\n",
    "       # ('new', transformer_new_features, new_features)\n",
    "      #  ('table', transformer_table_new, ['diamond_shape']),\n",
    "        \n",
    "])"
   ]
  },
  {
   "cell_type": "code",
   "execution_count": null,
   "id": "20ef2eab-0d01-44e0-97c4-715b86ae8d75",
   "metadata": {},
   "outputs": [],
   "source": [
    "display(CT)\n",
    "\n",
    "ct = CT.fit_transform(X_train)\n",
    "pd.DataFrame(ct).head().T"
   ]
  },
  {
   "cell_type": "markdown",
   "id": "69aca8dc-5277-447f-9711-eec8329d7906",
   "metadata": {},
   "source": [
    "#### переходим к моделям "
   ]
  },
  {
   "cell_type": "markdown",
   "id": "ce09aa4c-b7b6-4fd2-b464-5c769f211b5b",
   "metadata": {},
   "source": [
    "1. KNN для регрессии\n",
    "   "
   ]
  },
  {
   "cell_type": "code",
   "execution_count": null,
   "id": "86712c77-b4b4-4cab-a8b1-9bb1ac1a2e23",
   "metadata": {},
   "outputs": [],
   "source": [
    "def irq_mse(y_true, y_pred):\n",
    "    delta = y_pred-y_true\n",
    "    Q25 = np.quantile(delta, 0.25)\n",
    "    Q75 = np.quantile(delta, 0.75)\n",
    "    irq = Q75-Q25\n",
    "    mask = (delta<(Q25-1.5*irq)) | (delta> (Q75+1.5*irq))\n",
    "    if (mask.sum()==0):\n",
    "        rez=0\n",
    "    else: rez = -sum((delta[mask])**2) / mask.sum()\n",
    "    return rez"
   ]
  },
  {
   "cell_type": "code",
   "execution_count": null,
   "id": "75887e63-30fb-48ed-8373-0dde2e8f2f20",
   "metadata": {},
   "outputs": [],
   "source": [
    "scoring_mse_irq = make_scorer(irq_mse, greater_is_better=True)"
   ]
  },
  {
   "cell_type": "code",
   "execution_count": null,
   "id": "756a0193-13cb-496f-a556-2a157e632978",
   "metadata": {},
   "outputs": [],
   "source": [
    "from sklearn.model_selection import StratifiedKFold\n"
   ]
  },
  {
   "cell_type": "code",
   "execution_count": null,
   "id": "743a7a4c-aa49-4e1d-a35f-119f2c926927",
   "metadata": {},
   "outputs": [],
   "source": [
    "start = time.time()\n",
    "\n",
    "pipe = Pipeline([\n",
    "    ('preprocessing', CT),\n",
    "    ('knn', KNeighborsRegressor())\n",
    "])\n",
    "\n",
    "# Настройка кросс-валидации\n",
    "cv = StratifiedKFold(n_splits=5, shuffle=True)\n",
    "\n",
    "# Параметры для сеточного поиска\n",
    "param_grid = {\n",
    "    'knn__n_neighbors': [5, 7, 9,20,30,40,60],\n",
    "    'knn__weights': ['uniform', 'distance'],\n",
    "    'knn__metric': ['euclidean', 'manhattan']\n",
    "}\n",
    "\n",
    "# Настройка GridSearchCV\n",
    "grid = GridSearchCV(pipe, param_grid, scoring = scoring_mse_irq, cv=cv, n_jobs=-1)\n",
    "grid.fit(X_train, y_train)\n",
    "\n",
    "# Получение результатов\n",
    "grid_result = pd.DataFrame(grid.cv_results_).sort_values([\"rank_test_score\", 'std_test_score']).T\n",
    "\n",
    "# Вывод результатов\n",
    "print(grid_result)\n",
    "\n",
    "print(f\"цикл пройден за {round((time.time() - start)/60, 1)} минут\")"
   ]
  },
  {
   "cell_type": "code",
   "execution_count": null,
   "id": "45451286-454d-4f5f-8916-b7d62c4c37bf",
   "metadata": {},
   "outputs": [],
   "source": [
    "grid.best_score_"
   ]
  },
  {
   "cell_type": "code",
   "execution_count": null,
   "id": "81ca4779-0d79-4af9-bf93-c6af7928bc0b",
   "metadata": {},
   "outputs": [],
   "source": [
    "best_params = grid.best_params_\n",
    "best_params"
   ]
  },
  {
   "cell_type": "code",
   "execution_count": null,
   "id": "670d3c30-ae4d-437d-aeb1-9282e56dbde6",
   "metadata": {},
   "outputs": [],
   "source": [
    "KNN_REG = Pipeline([\n",
    "    ('preprocessing', CT),\n",
    "    ('knn', KNeighborsRegressor(metric='manhattan', n_neighbors=7, weights='distance'))\n",
    "])\n"
   ]
  },
  {
   "cell_type": "code",
   "execution_count": null,
   "id": "c61b6e50-9ccb-48ff-b858-f4595eff3cbb",
   "metadata": {},
   "outputs": [],
   "source": [
    "\n",
    "KNN_REG = Pipeline([\n",
    "    ('preprocessing', CT),\n",
    "    ('yeo-johnson', PowerTransformer(method='yeo-johnson')),  \n",
    "    ('knn', KNeighborsRegressor(metric='manhattan', n_neighbors=7, weights='distance'))\n",
    "])"
   ]
  },
  {
   "cell_type": "code",
   "execution_count": null,
   "id": "a5c5869d-a665-43d0-b039-f72aaaaa73e1",
   "metadata": {},
   "outputs": [],
   "source": [
    "cross_vall = cross_val_score(KNN_REG, X_train, y_train, cv=RepeatedKFold(n_splits=5, n_repeats=10), scoring='neg_mean_squared_error')\n"
   ]
  },
  {
   "cell_type": "code",
   "execution_count": null,
   "id": "532a9809-6e96-4e63-8a0d-3b0d32553b5c",
   "metadata": {},
   "outputs": [],
   "source": [
    "np.mean(cross_vall)"
   ]
  },
  {
   "cell_type": "code",
   "execution_count": null,
   "id": "38efb161-a636-475c-b79b-5d2850bfe5c0",
   "metadata": {},
   "outputs": [],
   "source": [
    "KNN_REG.fit(X_train,y_train)"
   ]
  },
  {
   "cell_type": "code",
   "execution_count": null,
   "id": "e8cdb9fb-9e3f-4d56-8394-38b4c0c3eb1a",
   "metadata": {},
   "outputs": [],
   "source": [
    "KNN_REG_pred = KNN_REG.predict(X_test)\n",
    "KNN_REG.score(X_train, y_train)"
   ]
  },
  {
   "cell_type": "code",
   "execution_count": null,
   "id": "1a525ee0-fa77-4716-80e6-e8634947a0ea",
   "metadata": {},
   "outputs": [],
   "source": [
    "mean_squared_error(y_test, KNN_REG_pred)"
   ]
  },
  {
   "cell_type": "code",
   "execution_count": null,
   "id": "e7f03ff3-c9be-462b-8065-6f4498519b0c",
   "metadata": {},
   "outputs": [],
   "source": [
    "mean_absolute_percentage_error(y_test, KNN_REG_pred)"
   ]
  },
  {
   "cell_type": "code",
   "execution_count": null,
   "id": "bd5c812c-6df1-41b9-98fb-232cb3bdccde",
   "metadata": {},
   "outputs": [],
   "source": [
    "rmse = np.sqrt(mean_squared_error(y_test, KNN_REG_pred))\n",
    "\n",
    "print(\"RMSE:\", rmse)"
   ]
  },
  {
   "cell_type": "markdown",
   "id": "c77d3117-0934-496a-9531-4b0fba3f9351",
   "metadata": {},
   "source": [
    "проверим, насколько ошибка гетероскедастична. в целом, ситуация хорошая, ошибки сконцентированы в районе нуля + когда я в полином фичах добавила помимо объема ещё каждую фичу в квадрате, то стало еще кучнее к нулю."
   ]
  },
  {
   "cell_type": "code",
   "execution_count": null,
   "id": "acc14fbb-a936-4452-88a0-1bd9eebb5e11",
   "metadata": {},
   "outputs": [],
   "source": [
    "residuals = y_test - KNN_REG_pred\n",
    "\n",
    "plt.scatter(KNN_REG_pred, residuals)\n",
    "plt.axhline(0, color='red', linestyle='--')\n",
    "plt.xlabel('Предсказанные значения')\n",
    "plt.ylabel('Остатки')\n",
    "plt.title('График остатков')\n",
    "plt.show()"
   ]
  },
  {
   "cell_type": "code",
   "execution_count": null,
   "id": "c4f08864-1788-4041-b303-488133920276",
   "metadata": {},
   "outputs": [],
   "source": [
    "plt.figure(figsize=(10, 6))\n",
    "\n",
    "# График истинных значений\n",
    "plt.scatter(X_test['carat'], y_test, color='blue', label='Истинные значения', alpha=0.6)\n",
    "\n",
    "# График предсказанных значений\n",
    "plt.scatter(X_test['carat'], KNN_REG_pred, color='red', label='Предсказанные значения', alpha=0.6)\n",
    "\n",
    "# Настройка графика\n",
    "plt.title('Сравнение истинных и предсказанных значений')\n",
    "plt.xlabel('X_test')\n",
    "plt.ylabel('Значения')\n",
    "plt.legend()\n",
    "plt.grid()\n",
    "\n",
    "# Показать график\n",
    "plt.show()"
   ]
  },
  {
   "cell_type": "code",
   "execution_count": null,
   "id": "219dd092-e7e7-4c93-a599-ff0f39db8a7b",
   "metadata": {},
   "outputs": [],
   "source": [
    "def irq_mse(y_true, y_predict):\n",
    "    delta = y_predict-y_true\n",
    "    Q25 = np.quantile(delta, 0.25)\n",
    "    Q75 = np.quantile(delta, 0.75)\n",
    "    irq = Q75-Q25\n",
    "    mask = (delta<(Q25-1.5*irq)) | (delta> (Q75+1.5*irq))\n",
    "    if (mask.sum()==0):\n",
    "        rez=0\n",
    "    else: rez = -sum((delta[mask])**2) / mask.sum()\n",
    "    return rez"
   ]
  },
  {
   "cell_type": "code",
   "execution_count": null,
   "id": "19fc288c-10ba-46a3-a1e5-027d37def77f",
   "metadata": {},
   "outputs": [],
   "source": [
    "irq_mse(y_test, KNN_REG_pred)"
   ]
  },
  {
   "cell_type": "markdown",
   "id": "902b6d7f-80ac-468c-b59d-4c54e9730c21",
   "metadata": {},
   "source": [
    "#### LinearSVR"
   ]
  },
  {
   "cell_type": "code",
   "execution_count": null,
   "id": "b623b76a-f963-41cc-b2f9-8f494ea6b048",
   "metadata": {},
   "outputs": [],
   "source": [
    "start = time.time()\n",
    "\n",
    "pipe = Pipeline(steps=[\n",
    "    ('preprocessor', CT),\n",
    "    ('svr', LinearSVR())\n",
    "])\n",
    "\n",
    "# Определение параметров для подбора\n",
    "param_grid = {\n",
    "    'svr__C': [0.01,0.1, 0.5, 1, 10, 100],  # Параметр регуляризации\n",
    "    'svr__epsilon': [0.01, 0.1, 0.5],# Параметр epsilon для контроля ошибки\n",
    "    'svr__max_iter': [500, 1000, 2000, 5000],\n",
    "    'svr__tol': [1e-4, 1e-3]\n",
    "}\n",
    "# Настройка кросс-валидации\n",
    "cv = RepeatedKFold(n_splits=5, n_repeats=10)\n",
    "\n",
    "# Настройка GridSearchCV\n",
    "grid = GridSearchCV(pipe, param_grid, scoring='neg_mean_squared_error', cv=cv, n_jobs=-1, return_train_score=True)\n",
    "\n",
    "# Обучение модели\n",
    "grid.fit(X_train, y_train)\n",
    "\n",
    "# Вывод наилучших параметров и результата\n",
    "print(\"Best parameters:\", grid.best_params_)\n",
    "print(\"Best cross-validation score:\", -grid.best_score_)\n",
    "\n",
    "print(f\"цикл пройден за {round((time.time() - start)/60, 1)} минут\")"
   ]
  },
  {
   "cell_type": "code",
   "execution_count": null,
   "id": "42ef9a65-655c-48d8-8ca9-aee18fdd1920",
   "metadata": {},
   "outputs": [],
   "source": [
    "LinearSVR_pipeline = Pipeline([\n",
    "    ('preprocessing', CT),\n",
    "    ('LinearSVR', LinearSVR(C=10, epsilon=0.5, loss='epsilon_insensitive', max_iter = 500, tol = 0.001))  \n",
    "])"
   ]
  },
  {
   "cell_type": "code",
   "execution_count": null,
   "id": "edf73835-6b21-4e60-bd4f-0a351e1cb4c3",
   "metadata": {},
   "outputs": [],
   "source": [
    "\n",
    "LinearSVR_pipeline = TransformedTargetRegressor( \n",
    "    Pipeline([\n",
    "    ('preprocessing', CT),\n",
    "    ('LinearSVR', LinearSVR(C=10, epsilon=0.5, loss='epsilon_insensitive', max_iter = 500, tol = 0.001))  \n",
    "]),\n",
    "    transformer=QuantileTransformer(n_quantiles=900, output_distribution='normal')\n",
    ")\n",
    "    "
   ]
  },
  {
   "cell_type": "code",
   "execution_count": null,
   "id": "33ddfb7d-4b0a-40d7-9d11-c75873de0490",
   "metadata": {},
   "outputs": [],
   "source": [
    "# Логарифмирование с добавлением 1, чтобы избежать проблем с нулями\n",
    "def log_transform(x):\n",
    "    return np.log(x + 1)\n",
    "\n",
    "# Обратное преобразование (экспоненциальное), с вычитанием 1\n",
    "def inv_log_transform(x):\n",
    "    return np.exp(x) - 1\n",
    "\n",
    "# Логарифмическое преобразование\n",
    "log_transformer = FunctionTransformer(log_transform, inverse_func=inv_log_transform)\n",
    "\n",
    "# Преобразование Box-Cox, применяется только к положительным данным\n",
    "boxcox_transformer = PowerTransformer(method='yeo-johnson')\n",
    "\n",
    "# Трансформатор для целей регрессии с обратным преобразованием\n",
    "LinearSVR_pipeline = TransformedTargetRegressor(\n",
    "    regressor=Pipeline([\n",
    "        ('preprocessing', CT),  # Ваши этапы предварительной обработки данных, например, Scaling или Encoding\n",
    "        ('LinearSVR', LinearSVR(C=10, epsilon=0.5, loss='epsilon_insensitive', max_iter=500, tol=0.001))\n",
    "    ]),\n",
    "    transformer=Pipeline([\n",
    "          # Логарифмирование целевой переменной\n",
    "        ('boxcox', boxcox_transformer)  # Применение Box-Cox для стабилизации дисперсии\n",
    "    ])\n",
    ")"
   ]
  },
  {
   "cell_type": "code",
   "execution_count": null,
   "id": "86e20586-31cd-4a1a-8441-b8684cb72d3e",
   "metadata": {},
   "outputs": [],
   "source": [
    "LinearSVR_pipeline.fit(X_train,y_train)"
   ]
  },
  {
   "cell_type": "code",
   "execution_count": null,
   "id": "4419b0ed-540c-4bec-922f-040b711957e0",
   "metadata": {},
   "outputs": [],
   "source": []
  },
  {
   "cell_type": "code",
   "execution_count": null,
   "id": "6f46dc22-0342-447d-a771-2244bcb2cfb1",
   "metadata": {},
   "outputs": [],
   "source": [
    "LinearSVR_pred = LinearSVR_pipeline.predict(X_test)\n"
   ]
  },
  {
   "cell_type": "code",
   "execution_count": null,
   "id": "881e33be-e1f7-4a64-9f2c-fcb06408ece4",
   "metadata": {},
   "outputs": [],
   "source": [
    "LinearSVR_pred  = boxcox_transformer.inverse_transform(LinearSVR_pred.reshape(-1, 1)) \n"
   ]
  },
  {
   "cell_type": "code",
   "execution_count": null,
   "id": "cd1464b9-58a6-49f6-93fa-5742a6165703",
   "metadata": {},
   "outputs": [],
   "source": [
    "LinearSVR_pipeline.score(X_train, y_train)"
   ]
  },
  {
   "cell_type": "code",
   "execution_count": null,
   "id": "dc278930-084a-49a9-965a-2221b27949cc",
   "metadata": {},
   "outputs": [],
   "source": [
    "mean_absolute_percentage_error(y_test, LinearSVR_pred)"
   ]
  },
  {
   "cell_type": "code",
   "execution_count": null,
   "id": "6f414e35-6b11-4c82-9305-daa01fd6a52e",
   "metadata": {},
   "outputs": [],
   "source": [
    "mean_squared_error(y_test, LinearSVR_pred)"
   ]
  },
  {
   "cell_type": "code",
   "execution_count": null,
   "id": "8bb2f01c-0c48-4b16-bd44-bdc6d5fff5d6",
   "metadata": {},
   "outputs": [],
   "source": [
    "rmse = np.sqrt(mean_squared_error(y_test, LinearSVR_pred))\n",
    "\n",
    "print(\"RMSE:\", rmse)"
   ]
  },
  {
   "cell_type": "markdown",
   "id": "2ea96fea-d8a3-4ef6-95ab-0113d7a454a8",
   "metadata": {},
   "source": [
    "проверим, насколько ошибка гетероскедастична. тенденция весьма печальная. "
   ]
  },
  {
   "cell_type": "code",
   "execution_count": null,
   "id": "f7238848-28bc-42a8-8061-cf032f475e22",
   "metadata": {},
   "outputs": [],
   "source": [
    "residuals = y_test - LinearSVR_pred\n",
    "\n",
    "plt.scatter(LinearSVR_pred, residuals)\n",
    "plt.axhline(0, color='red', linestyle='--')\n",
    "plt.xlabel('Предсказанные значения')\n",
    "plt.ylabel('Остатки')\n",
    "plt.title('График остатков')\n",
    "plt.show()"
   ]
  },
  {
   "cell_type": "code",
   "execution_count": null,
   "id": "5cd32623-3ad3-44a0-bd81-1f770260882c",
   "metadata": {},
   "outputs": [],
   "source": [
    "irq_mse(y_test, LinearSVR_pred)"
   ]
  },
  {
   "cell_type": "markdown",
   "id": "d6bd51d7-0cbf-485e-861d-4391209e580a",
   "metadata": {},
   "source": [
    "#### RIDGE-регрессия"
   ]
  },
  {
   "cell_type": "code",
   "execution_count": null,
   "id": "556aa3d3-371f-42a4-88ce-d8837f2e76cb",
   "metadata": {},
   "outputs": [],
   "source": [
    "start = time.time()\n",
    "\n",
    "pipe = Pipeline(steps=[\n",
    "    ('preprocessing', CT),\n",
    "    ('ridge', Ridge())\n",
    "])\n",
    "\n",
    "# Определение параметров для подбора\n",
    "param_grid = {\n",
    "    'ridge__alpha': [0.1, 1, 10, 100]  # Параметр регуляризации\n",
    "}\n",
    "\n",
    "# Настройка GridSearchCV\n",
    "grid = GridSearchCV(pipe, param_grid, scoring='neg_mean_absolute_error', cv=5, n_jobs=-1)\n",
    "\n",
    "# Разделение данных на обучающую и тестовую выборки\n",
    "X_train, X_test, y_train, y_test = train_test_split(X, y, test_size=0.2, random_state=42)\n",
    "\n",
    "# Обучение модели\n",
    "grid.fit(X_train, y_train)\n",
    "\n",
    "# Вывод наилучших параметров и результата\n",
    "print(\"Best parameters:\", grid.best_params_)\n",
    "print(\"Best cross-validation score:\", -grid.best_score_)\n",
    "\n",
    "print(f\"цикл пройден за {round((time.time() - start)/60, 1)} минут\")"
   ]
  },
  {
   "cell_type": "code",
   "execution_count": null,
   "id": "3142f9b4-a2bc-44f0-a294-afc6f5731ab9",
   "metadata": {},
   "outputs": [],
   "source": [
    "Ridge_pipeline = Pipeline([\n",
    "    ('preprocessing', CT),\n",
    "    ('Ridge', Ridge(alpha = 1\n",
    "                   ))  \n",
    "])"
   ]
  },
  {
   "cell_type": "code",
   "execution_count": null,
   "id": "797275db-2800-441f-b5dd-533058e45d91",
   "metadata": {},
   "outputs": [],
   "source": [
    "Ridge_pipeline.fit(X_train,y_train)"
   ]
  },
  {
   "cell_type": "code",
   "execution_count": null,
   "id": "b200fda7-0985-4e70-9c97-ce71d5c00054",
   "metadata": {},
   "outputs": [],
   "source": [
    "Ridge_pred = Ridge_pipeline.predict(X_test)\n",
    "Ridge_pipeline.score(X_train, y_train)"
   ]
  },
  {
   "cell_type": "code",
   "execution_count": null,
   "id": "827bf5ef-1c80-4604-951b-5d480676b0a0",
   "metadata": {},
   "outputs": [],
   "source": [
    "mean_absolute_percentage_error(y_test, Ridge_pred)"
   ]
  },
  {
   "cell_type": "code",
   "execution_count": null,
   "id": "5c9962a0-b255-4d8c-acc1-67eb9887667a",
   "metadata": {},
   "outputs": [],
   "source": [
    "mean_squared_error(y_test, Ridge_pred)\n"
   ]
  },
  {
   "cell_type": "markdown",
   "id": "7ec67a42-9e57-4e77-b218-c78d6b3931fb",
   "metadata": {},
   "source": [
    "проверим, насколько ошибка гетероскедастична. тенденция весьма печальная.   \n",
    "почему у нас вообще предсказанные значения ниже нуля?"
   ]
  },
  {
   "cell_type": "code",
   "execution_count": null,
   "id": "b827e8b2-461a-45be-a138-48cd7ae09a64",
   "metadata": {},
   "outputs": [],
   "source": [
    "residuals = y_test - Ridge_pred\n",
    "\n",
    "plt.scatter(Ridge_pred, residuals)\n",
    "plt.axhline(0, color='red', linestyle='--')\n",
    "plt.xlabel('Предсказанные значения')\n",
    "plt.ylabel('Остатки')\n",
    "plt.title('График остатков')\n",
    "plt.show()"
   ]
  },
  {
   "cell_type": "code",
   "execution_count": null,
   "id": "85479b78-33ac-44a0-b3e0-2402da39ecef",
   "metadata": {},
   "outputs": [],
   "source": [
    "plt.figure(figsize=(10, 6))\n",
    "\n",
    "# График истинных значений\n",
    "plt.scatter(X_test['carat'], y_test, color='blue', label='Истинные значения', alpha=0.6)\n",
    "\n",
    "# График предсказанных значений\n",
    "plt.scatter(X_test['carat'], Ridge_pred, color='red', label='Предсказанные значения', alpha=0.6)\n",
    "\n",
    "# Настройка графика\n",
    "plt.title('Сравнение истинных и предсказанных значений')\n",
    "plt.xlabel('X_test')\n",
    "plt.ylabel('Значения')\n",
    "plt.legend()\n",
    "plt.grid()\n",
    "\n",
    "# Показать график\n",
    "plt.show()"
   ]
  },
  {
   "cell_type": "markdown",
   "id": "dd62b293-0c14-4673-96cc-fcf7baa4ed88",
   "metadata": {},
   "source": [
    "LASSO - регрессия"
   ]
  },
  {
   "cell_type": "code",
   "execution_count": null,
   "id": "a2cb4cd1-9999-4af3-bc2c-daadb7eea4a4",
   "metadata": {},
   "outputs": [],
   "source": [
    "start = time.time()\n",
    "\n",
    "pipe = Pipeline(steps=[\n",
    "    ('preprocessing', CT),\n",
    "    ('lasso', Lasso())\n",
    "])\n",
    "\n",
    "# Определение параметров для подбора\n",
    "param_grid = {\n",
    "    'lasso__alpha': [0.1, 1, 10, 100]  # Параметр регуляризации для Lasso\n",
    "}\n",
    "\n",
    "# Настройка GridSearchCV\n",
    "grid = GridSearchCV(pipe, param_grid, scoring='neg_mean_absolute_error', cv=5, n_jobs=-1)\n",
    "\n",
    "# Разделение данных на обучающую и тестовую выборки\n",
    "X_train, X_test, y_train, y_test = train_test_split(X, y, test_size=0.2, random_state=42)\n",
    "\n",
    "# Обучение модели\n",
    "grid.fit(X_train, y_train)\n",
    "\n",
    "# Вывод наилучших параметров и результата\n",
    "print(\"Best parameters:\", grid.best_params_)\n",
    "print(\"Best cross-validation score:\", -grid.best_score_)\n",
    "\n",
    "print(f\"Цикл пройден за {round((time.time() - start) / 60, 1)} минут\")"
   ]
  },
  {
   "cell_type": "code",
   "execution_count": null,
   "id": "d3369156-3f4f-4ddc-b9e7-bc36abe039d7",
   "metadata": {},
   "outputs": [],
   "source": [
    "Lasso_pipeline = Pipeline([\n",
    "    ('preprocessing', CT),\n",
    "    ('lasso', Lasso(alpha = 0.1\n",
    "                   ))  \n",
    "])"
   ]
  },
  {
   "cell_type": "code",
   "execution_count": null,
   "id": "50b504a0-d88b-4b7f-afdc-a48170462ebc",
   "metadata": {},
   "outputs": [],
   "source": [
    "Lasso_pipeline.fit(X_train,y_train)"
   ]
  },
  {
   "cell_type": "code",
   "execution_count": null,
   "id": "f6225b13-d3aa-42ed-ae4c-af8cfda08b5c",
   "metadata": {},
   "outputs": [],
   "source": [
    "Lasso_pred = Lasso_pipeline.predict(X_test)\n",
    "Lasso_pipeline.score(X_train, y_train)"
   ]
  },
  {
   "cell_type": "code",
   "execution_count": null,
   "id": "01f624a2-00f6-44cd-9517-e589eefab7e5",
   "metadata": {},
   "outputs": [],
   "source": [
    "mean_absolute_percentage_error(y_test, Lasso_pred)"
   ]
  },
  {
   "cell_type": "code",
   "execution_count": null,
   "id": "23470fb9-6d7b-4e33-a7a6-7034ad8dae7f",
   "metadata": {},
   "outputs": [],
   "source": [
    "plt.figure(figsize=(10, 6))\n",
    "\n",
    "# График истинных значений\n",
    "plt.scatter(X_test['carat'], y_test, color='blue', label='Истинные значения', alpha=0.6)\n",
    "\n",
    "# График предсказанных значений\n",
    "plt.scatter(X_test['carat'], Lasso_pred, color='red', label='Предсказанные значения', alpha=0.6)\n",
    "\n",
    "# Настройка графика\n",
    "plt.title('Сравнение истинных и предсказанных значений')\n",
    "plt.xlabel('X_test')\n",
    "plt.ylabel('Значения')\n",
    "plt.legend()\n",
    "plt.grid()\n",
    "\n",
    "# Показать график\n",
    "plt.show()"
   ]
  },
  {
   "cell_type": "markdown",
   "id": "344253f0-dc1a-4809-8d48-f9178b226dea",
   "metadata": {},
   "source": [
    "#### это какая-то шиза"
   ]
  },
  {
   "cell_type": "code",
   "execution_count": null,
   "id": "bd4c340a-d6eb-4566-9f20-3c47f7e1adbd",
   "metadata": {},
   "outputs": [],
   "source": [
    "import shap\n",
    "\n",
    "explainer_knn = shap.KernelExplainer(lambda x: KNN_REG.predict(x))\n",
    "\n",
    "# Для простоты начнем с одного записи тестового набора данных \n",
    "shap_values_single_record = explainer_knn.shap_values(X_test.iloc[:1])\n",
    "\n",
    "# Чтобы увидеть влияние всех записей тестового набора данных одновременно,\n",
    "  # нам нужно увеличить количество образцов (samples):\n",
    "  \n",
    "nsamples = len(y_test)\n",
    "shap_values_all_records = explainer_knn.shap_values(X_test.head(nsamples))\n",
    " \n",
    "  # Альтернатива: если вы предпочитаете использовать только среднее значение медианы тренировочного набора данных,\n",
    "    # вы можете использовать следующий вариант:\n",
    "    \n",
    "med_X_train = X_train.median(axis=0).reshape(-1,len(X_train.columns))\n",
    "explainer_median_based = shap.KernelExplainer(lambda x: KNN_REG.predict(med_X_train))\n",
    "shap_values_median_based = explainer_median_based.shap_values(X_test.head())\n",
    "     \n",
    "  # Однако для простого понимания лучше использовать все точки тестового набора данных.\n",
    "      \n",
    "  ### Шаг 3: Генерация графика суммарных значений SHAP\n",
    "\n",
    "    \n",
    "shap.summary_plot(shap_values_all_records,y_test.head()) \n",
    "    \n",
    "    # Этот граф покажет относительное влияние каждого признака на целевую переменную за весь тестовый набор данных.\n",
    "        "
   ]
  },
  {
   "cell_type": "code",
   "execution_count": null,
   "id": "7320256d-d923-49ca-9786-8baede1f3d16",
   "metadata": {},
   "outputs": [],
   "source": []
  },
  {
   "cell_type": "code",
   "execution_count": null,
   "id": "fe134a16-b650-4de8-83c7-1552de65ba20",
   "metadata": {},
   "outputs": [],
   "source": []
  }
 ],
 "metadata": {
  "kernelspec": {
   "display_name": "Python 3 (ipykernel)",
   "language": "python",
   "name": "python3"
  },
  "language_info": {
   "codemirror_mode": {
    "name": "ipython",
    "version": 3
   },
   "file_extension": ".py",
   "mimetype": "text/x-python",
   "name": "python",
   "nbconvert_exporter": "python",
   "pygments_lexer": "ipython3",
   "version": "3.12.7"
  }
 },
 "nbformat": 4,
 "nbformat_minor": 5
}
